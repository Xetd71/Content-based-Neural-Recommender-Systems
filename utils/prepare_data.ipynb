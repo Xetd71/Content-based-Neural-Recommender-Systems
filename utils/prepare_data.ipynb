{
 "cells": [
  {
   "cell_type": "code",
   "execution_count": 1,
   "metadata": {},
   "outputs": [],
   "source": [
    "import os\n",
    "import re\n",
    "import sys\n",
    "import time\n",
    "import implicit\n",
    "import numpy as np\n",
    "import tensorflow as tf\n",
    "import pandas as pd\n",
    "from scipy import sparse\n",
    "from tqdm import tqdm\n",
    "# from tqdm import tqdm_notebook as tqdm\n",
    "\n",
    "import implicit\n",
    "from gensim.models.doc2vec import Doc2Vec"
   ]
  },
  {
   "cell_type": "code",
   "execution_count": 2,
   "metadata": {},
   "outputs": [],
   "source": [
    "IS_LOCAL = True\n",
    "HOME_DIR = ('/mnt/E/Projects/' if IS_LOCAL else '/home/Xetd71/') + 'Content-based-Neural-Recommender-Systems/'\n",
    "os.environ['HOME_DIR'] = HOME_DIR\n",
    "\n",
    "# sys.path.append(\"../..\")\n",
    "from prepare_data import zen, tokenize\n",
    "\n",
    "DATA_DIR = f'{HOME_DIR}data/zen/'\n",
    "# WORKING_DIR = f'{HOME_DIR}utils/'\n",
    "# os.chdir(WORKING_DIR)"
   ]
  },
  {
   "cell_type": "markdown",
   "metadata": {},
   "source": [
    "## Load data"
   ]
  },
  {
   "cell_type": "code",
   "execution_count": 3,
   "metadata": {
    "scrolled": true
   },
   "outputs": [
    {
     "name": "stderr",
     "output_type": "stream",
     "text": [
      "loading items: 328050it [00:28, 11662.02it/s]\n",
      "loading users: 42977it [01:03, 678.07it/s]\n"
     ]
    }
   ],
   "source": [
    "items_df, train_df = zen.items_df(), zen.users_df()"
   ]
  },
  {
   "cell_type": "markdown",
   "metadata": {},
   "source": [
    "## CSR-matrix"
   ]
  },
  {
   "cell_type": "code",
   "execution_count": 4,
   "metadata": {},
   "outputs": [],
   "source": [
    "user_ids = np.concatenate([[v]*v_len for v, v_len in zip(\n",
    "    train_df['userId'].values, train_df['userItems'].apply(len).values)])\n",
    "items_ids = np.concatenate(train_df['userItems'].values)\n",
    "ratings = np.concatenate(np.array(list(map(lambda x: x - x.mean(), train_df['userRatings'].values))))\n",
    "item_user_data = sparse.csr_matrix((ratings, (items_ids, user_ids)), dtype=np.float32)"
   ]
  },
  {
   "cell_type": "code",
   "execution_count": 5,
   "metadata": {},
   "outputs": [],
   "source": [
    "mean_ratings = np.array(list(map(np.mean, train_df['userRatings'].values)))"
   ]
  },
  {
   "cell_type": "markdown",
   "metadata": {},
   "source": [
    "## ALS"
   ]
  },
  {
   "cell_type": "code",
   "execution_count": 6,
   "metadata": {},
   "outputs": [
    {
     "data": {
      "text/plain": [
       "(328050, 42977)"
      ]
     },
     "execution_count": 6,
     "metadata": {},
     "output_type": "execute_result"
    }
   ],
   "source": [
    "item_user_data.shape"
   ]
  },
  {
   "cell_type": "code",
   "execution_count": 7,
   "metadata": {
    "scrolled": true
   },
   "outputs": [
    {
     "name": "stdout",
     "output_type": "stream",
     "text": [
      "users_n: 42977\titems_n: 328049\n"
     ]
    }
   ],
   "source": [
    "users_n = train_df.shape[0]\n",
    "items_n = train_df['userItems'].apply(max).max()\n",
    "print(f'users_n: {users_n}\\titems_n: {items_n}')"
   ]
  },
  {
   "cell_type": "code",
   "execution_count": 8,
   "metadata": {},
   "outputs": [
    {
     "name": "stderr",
     "output_type": "stream",
     "text": [
      "WARNING:root:OpenBLAS detected. Its highly recommend to set the environment variable 'export OPENBLAS_NUM_THREADS=1' to disable its internal multithreading\n",
      "100%|██████████| 20.0/20 [02:02<00:00,  5.96s/it, loss=0.00909]\n"
     ]
    }
   ],
   "source": [
    "als_model = implicit.als.AlternatingLeastSquares(\n",
    "    factors=64,\n",
    "    regularization=0.01,\n",
    "    iterations=20,\n",
    "    calculate_training_loss=True\n",
    ")\n",
    "als_model.fit(item_user_data)"
   ]
  },
  {
   "cell_type": "code",
   "execution_count": 9,
   "metadata": {},
   "outputs": [
    {
     "data": {
      "text/plain": [
       "(42977, 64)"
      ]
     },
     "execution_count": 9,
     "metadata": {},
     "output_type": "execute_result"
    }
   ],
   "source": [
    "als_model.user_factors.shape"
   ]
  },
  {
   "cell_type": "code",
   "execution_count": 10,
   "metadata": {},
   "outputs": [
    {
     "data": {
      "text/plain": [
       "(328050, 64)"
      ]
     },
     "execution_count": 10,
     "metadata": {},
     "output_type": "execute_result"
    }
   ],
   "source": [
    "als_model.item_factors.shape"
   ]
  },
  {
   "cell_type": "code",
   "execution_count": 27,
   "metadata": {},
   "outputs": [],
   "source": [
    "# users_matrix = np.concatenate((als_model.user_factors, np.array([mean_ratings]).T), axis=1)\n",
    "# users_matrix.shape"
   ]
  },
  {
   "cell_type": "code",
   "execution_count": 31,
   "metadata": {},
   "outputs": [
    {
     "data": {
      "text/plain": [
       "((42977, 64), (42977, 1))"
      ]
     },
     "execution_count": 31,
     "metadata": {},
     "output_type": "execute_result"
    }
   ],
   "source": [
    "users_factors = als_model.user_factors\n",
    "users_mean_ratings = np.array([mean_ratings]).T\n",
    "user_factors.shape, user_mean_ratings.shape"
   ]
  },
  {
   "cell_type": "markdown",
   "metadata": {},
   "source": [
    "## Doc2Vec"
   ]
  },
  {
   "cell_type": "code",
   "execution_count": 12,
   "metadata": {},
   "outputs": [],
   "source": [
    "import gensim\n",
    "import logging\n",
    "logging.basicConfig(format='%(asctime)s : %(levelname)s : %(message)s', level=logging.INFO)"
   ]
  },
  {
   "cell_type": "code",
   "execution_count": 13,
   "metadata": {
    "scrolled": true
   },
   "outputs": [],
   "source": [
    "# doc2vec_model = gensim.models.Doc2Vec(documents=zen.text_iterator(), vector_size=96, window=10, min_count=3, workers=4, epochs=7)\n",
    "# doc2vec_model.save('/home/Xetd71/doc2vec_model/doc2vec_model')"
   ]
  },
  {
   "cell_type": "code",
   "execution_count": 14,
   "metadata": {},
   "outputs": [],
   "source": [
    "doc2vec_model = gensim.models.Doc2Vec.load('/data/home/Xetd71/doc2vec_model/doc2vec_model')"
   ]
  },
  {
   "cell_type": "code",
   "execution_count": 15,
   "metadata": {},
   "outputs": [],
   "source": [
    "items_text = (items_df['title'] + ' ' + items_df['content']).values"
   ]
  },
  {
   "cell_type": "code",
   "execution_count": 16,
   "metadata": {},
   "outputs": [
    {
     "data": {
      "text/plain": [
       "(328050,)"
      ]
     },
     "execution_count": 16,
     "metadata": {},
     "output_type": "execute_result"
    }
   ],
   "source": [
    "items_text.shape"
   ]
  },
  {
   "cell_type": "code",
   "execution_count": 20,
   "metadata": {},
   "outputs": [
    {
     "name": "stderr",
     "output_type": "stream",
     "text": [
      "100%|██████████| 328050/328050 [14:36<00:00, 374.36it/s]\n"
     ]
    }
   ],
   "source": [
    "items_processed_text = []\n",
    "for item_text in tqdm(items_text):\n",
    "    items_processed_text.append(doc2vec_model.infer_vector(tokenize(item_text)))\n",
    "items_processed_text = np.array(items_processed_text)"
   ]
  },
  {
   "cell_type": "code",
   "execution_count": 21,
   "metadata": {},
   "outputs": [
    {
     "data": {
      "text/plain": [
       "(328050, 96)"
      ]
     },
     "execution_count": 21,
     "metadata": {},
     "output_type": "execute_result"
    }
   ],
   "source": [
    "items_processed_text.shape"
   ]
  },
  {
   "cell_type": "code",
   "execution_count": 22,
   "metadata": {},
   "outputs": [],
   "source": [
    "items_processed_images = np.array(list(map(np.array, items_df['image'].values)))"
   ]
  },
  {
   "cell_type": "code",
   "execution_count": 23,
   "metadata": {},
   "outputs": [
    {
     "data": {
      "text/plain": [
       "(328050, 96)"
      ]
     },
     "execution_count": 23,
     "metadata": {},
     "output_type": "execute_result"
    }
   ],
   "source": [
    "items_processed_images.shape"
   ]
  },
  {
   "cell_type": "code",
   "execution_count": 24,
   "metadata": {},
   "outputs": [],
   "source": [
    "# items_matrix = np.concatenate((als_model.item_factors, items_processed_text, items_processed_images), axis=1)\n",
    "# items_matrix2 = np.concatenate((items_processed_text, items_processed_images), axis=1)"
   ]
  },
  {
   "cell_type": "code",
   "execution_count": 32,
   "metadata": {},
   "outputs": [
    {
     "data": {
      "text/plain": [
       "array([[-0.169,  0.129,  0.067, ..., -0.428, -0.128,  0.145],\n",
       "       [-0.158, -0.112, -0.325, ...,  0.277,  0.042,  0.149],\n",
       "       [ 0.084, -0.181,  0.008, ..., -0.108, -0.359, -0.127],\n",
       "       ...,\n",
       "       [ 0.027, -0.148, -0.054, ...,  0.209, -0.024,  0.093],\n",
       "       [ 0.176,  0.205, -0.061, ..., -0.002, -0.187,  0.001],\n",
       "       [ 0.062,  0.004, -0.299, ...,  0.187,  0.119,  0.299]])"
      ]
     },
     "execution_count": 32,
     "metadata": {},
     "output_type": "execute_result"
    }
   ],
   "source": [
    "items_factors = als_model.item_factors\n",
    "items_processed_text\n",
    "items_processed_images"
   ]
  },
  {
   "cell_type": "markdown",
   "metadata": {},
   "source": [
    "## Ratings"
   ]
  },
  {
   "cell_type": "code",
   "execution_count": 8,
   "metadata": {},
   "outputs": [],
   "source": [
    "def get_user_item_rating_matrix(users_df):\n",
    "    user_ids = np.array([np.concatenate([[v]*v_len for v, v_len in zip(\n",
    "        users_df['userId'].values, users_df['userItems'].apply(len).values)])], dtype=np.int).T\n",
    "    items_ids = np.array([np.concatenate(users_df['userItems'].values)], dtype=np.int).T\n",
    "    ratings = np.array([np.concatenate(train_df['userRatings'].values)], dtype=np.int).T\n",
    "    return np.concatenate((user_ids, items_ids, ratings), axis=1)"
   ]
  },
  {
   "cell_type": "code",
   "execution_count": 9,
   "metadata": {},
   "outputs": [],
   "source": [
    "# ratings_train_matrix = get_user_item_rating_matrix(train_df)\n",
    "\n",
    "# ratings_train_matrix.shape\n",
    "\n",
    "# ratings_test_matrix = get_user_item_rating_matrix(test_df)\n",
    "\n",
    "# ratings_test_matrix.shape\n",
    "\n",
    "# ratings_test_matrix.shape[0]/(ratings_train_matrix.shape[0] + ratings_test_matrix.shape[0])"
   ]
  },
  {
   "cell_type": "code",
   "execution_count": 10,
   "metadata": {},
   "outputs": [],
   "source": [
    "ratings_matrix = get_user_item_rating_matrix(train_df)"
   ]
  },
  {
   "cell_type": "code",
   "execution_count": 11,
   "metadata": {},
   "outputs": [
    {
     "data": {
      "text/plain": [
       "(67780168, 3)"
      ]
     },
     "execution_count": 11,
     "metadata": {},
     "output_type": "execute_result"
    }
   ],
   "source": [
    "ratings_matrix.shape"
   ]
  },
  {
   "cell_type": "code",
   "execution_count": 12,
   "metadata": {},
   "outputs": [],
   "source": [
    "ratings_0_matrix = ratings_matrix[ratings_matrix[:,2]==0]"
   ]
  },
  {
   "cell_type": "code",
   "execution_count": 13,
   "metadata": {},
   "outputs": [],
   "source": [
    "ratings_1_matrix = ratings_matrix[ratings_matrix[:,2]==1]"
   ]
  },
  {
   "cell_type": "code",
   "execution_count": 14,
   "metadata": {},
   "outputs": [
    {
     "data": {
      "text/plain": [
       "array([[     0,  93250,      1],\n",
       "       [     0, 304018,      1],\n",
       "       [     0, 213209,      1],\n",
       "       ...,\n",
       "       [ 42976,  97896,      1],\n",
       "       [ 42976,  15659,      1],\n",
       "       [ 42976, 273343,      1]])"
      ]
     },
     "execution_count": 14,
     "metadata": {},
     "output_type": "execute_result"
    }
   ],
   "source": [
    "ratings_1_matrix"
   ]
  },
  {
   "cell_type": "markdown",
   "metadata": {},
   "source": [
    "## Save users and items matrix"
   ]
  },
  {
   "cell_type": "code",
   "execution_count": 15,
   "metadata": {},
   "outputs": [],
   "source": [
    "PREPROC_DIR = f'{DATA_DIR}preproc/'\n",
    "if not os.path.exists(PREPROC_DIR):\n",
    "    os.makedirs(PREPROC_DIR)"
   ]
  },
  {
   "cell_type": "code",
   "execution_count": 16,
   "metadata": {},
   "outputs": [
    {
     "data": {
      "text/plain": [
       "'/mnt/E/Projects/Content-based-Neural-Recommender-Systems/data/zen/preproc/'"
      ]
     },
     "execution_count": 16,
     "metadata": {},
     "output_type": "execute_result"
    }
   ],
   "source": [
    "PREPROC_DIR"
   ]
  },
  {
   "cell_type": "code",
   "execution_count": 17,
   "metadata": {},
   "outputs": [],
   "source": [
    "# np.save(f'{PREPROC_DIR}users_matrix.npy', users_matrix)\n",
    "# np.save(f'{PREPROC_DIR}items_matrix.npy', items_matrix)\n",
    "# np.save(f'{PREPROC_DIR}ratings_train_matrix.npy', ratings_train_matrix)\n",
    "# np.save(f'{PREPROC_DIR}ratings_test_matrix.npy', ratings_test_matrix)\n",
    "# np.save(f'{PREPROC_DIR}als_model.user_factors.npy', als_model.user_factors)\n",
    "# np.save(f'{PREPROC_DIR}items_matrix2.npy', items_matrix2)"
   ]
  },
  {
   "cell_type": "code",
   "execution_count": 18,
   "metadata": {},
   "outputs": [],
   "source": [
    "# # users\n",
    "# np.save(f'{PREPROC_DIR}users_factors.npy', users_factors)\n",
    "# np.save(f'{PREPROC_DIR}users_mean_ratings.npy', users_mean_ratings)\n",
    "\n",
    "# # items\n",
    "# np.save(f'{PREPROC_DIR}items_factors.npy', items_factors)\n",
    "# np.save(f'{PREPROC_DIR}items_processed_text.npy', items_processed_text)\n",
    "# np.save(f'{PREPROC_DIR}items_processed_images.npy', items_processed_images)\n",
    "\n",
    "# ratings\n",
    "np.save(f'{PREPROC_DIR}ratings_matrix.npy', ratings_matrix)\n",
    "np.save(f'{PREPROC_DIR}ratings_0_matrix.npy', ratings_0_matrix)\n",
    "np.save(f'{PREPROC_DIR}ratings_1_matrix.npy', ratings_1_matrix)"
   ]
  },
  {
   "cell_type": "code",
   "execution_count": null,
   "metadata": {},
   "outputs": [],
   "source": []
  },
  {
   "cell_type": "code",
   "execution_count": 46,
   "metadata": {},
   "outputs": [],
   "source": [
    "np.save(f'{PREPROC_DIR}ratings_0_matrix.npy', ratings_0_matrix)\n",
    "np.save(f'{PREPROC_DIR}ratings_1_matrix.npy', ratings_1_matrix)"
   ]
  }
 ],
 "metadata": {
  "kernelspec": {
   "display_name": "Tensorflow",
   "language": "python",
   "name": "tensorflow"
  },
  "language_info": {
   "codemirror_mode": {
    "name": "ipython",
    "version": 3
   },
   "file_extension": ".py",
   "mimetype": "text/x-python",
   "name": "python",
   "nbconvert_exporter": "python",
   "pygments_lexer": "ipython3",
   "version": "3.6.8"
  },
  "toc": {
   "base_numbering": 1,
   "nav_menu": {},
   "number_sections": false,
   "sideBar": true,
   "skip_h1_title": false,
   "title_cell": "Table of Contents",
   "title_sidebar": "Contents",
   "toc_cell": false,
   "toc_position": {},
   "toc_section_display": true,
   "toc_window_display": false
  }
 },
 "nbformat": 4,
 "nbformat_minor": 2
}
