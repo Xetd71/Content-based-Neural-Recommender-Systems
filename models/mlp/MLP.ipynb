{
 "cells": [
  {
   "cell_type": "code",
   "execution_count": 1,
   "metadata": {},
   "outputs": [],
   "source": [
    "import os\n",
    "import re\n",
    "import sys\n",
    "import time\n",
    "import implicit\n",
    "import numpy as np\n",
    "import pandas as pd\n",
    "from scipy import sparse\n",
    "from tqdm import  tqdm"
   ]
  },
  {
   "cell_type": "code",
   "execution_count": 2,
   "metadata": {},
   "outputs": [
    {
     "name": "stderr",
     "output_type": "stream",
     "text": [
      "100%|██████████| 4349/4349 [00:13<00:00, 329.46it/s]\n"
     ]
    }
   ],
   "source": [
    "IS_LOCAL = False\n",
    "HOME_DIR = ('/mnt/E/Projects/' if IS_LOCAL else '/home/Xetd71/') + 'Content-based-Neural-Recommender-Systems/'\n",
    "os.environ['HOME_DIR'] = HOME_DIR\n",
    "\n",
    "sys.path.append(\"../..\")\n",
    "from utils.prepare_data import zen\n",
    "from utils.evaluate import test\n",
    "from utils import tqdm_utils\n",
    "\n",
    "DATA_DIR = f'{HOME_DIR}data/zen/'\n",
    "WORKING_DIR = f'{HOME_DIR}models/mlp'\n",
    "os.chdir(WORKING_DIR)"
   ]
  },
  {
   "cell_type": "code",
   "execution_count": 3,
   "metadata": {},
   "outputs": [
    {
     "name": "stdout",
     "output_type": "stream",
     "text": [
      "/data/home/Xetd71/Content-based-Neural-Recommender-Systems/models/mlp\r\n"
     ]
    }
   ],
   "source": [
    "!pwd"
   ]
  },
  {
   "cell_type": "markdown",
   "metadata": {},
   "source": [
    "## Load data"
   ]
  },
  {
   "cell_type": "code",
   "execution_count": 4,
   "metadata": {},
   "outputs": [],
   "source": [
    "PREPROC_DIR = f'{DATA_DIR}preproc/'"
   ]
  },
  {
   "cell_type": "code",
   "execution_count": 5,
   "metadata": {},
   "outputs": [
    {
     "name": "stdout",
     "output_type": "stream",
     "text": [
      "(42977, 64) (42977, 1)\n",
      "(328050, 64) (328050, 96) (328050, 96)\n",
      "(67780168, 3) (61329513, 3) (6450655, 3)\n"
     ]
    }
   ],
   "source": [
    "# users\n",
    "users_factors = np.load(f'{PREPROC_DIR}users_factors.npy')\n",
    "users_mean_ratings = np.load(f'{PREPROC_DIR}users_mean_ratings.npy')\n",
    "print(users_factors.shape, users_mean_ratings.shape)\n",
    "\n",
    "# items\n",
    "items_factors = np.load(f'{PREPROC_DIR}items_factors.npy')\n",
    "items_processed_text = np.load(f'{PREPROC_DIR}items_processed_text.npy')\n",
    "items_processed_images = np.load(f'{PREPROC_DIR}items_processed_images.npy')\n",
    "print(items_factors.shape, items_processed_text.shape, items_processed_images.shape)\n",
    "\n",
    "# ratings\n",
    "ratings_matrix = np.load(f'{PREPROC_DIR}ratings_matrix.npy')\n",
    "ratings_0_matrix = np.load(f'{PREPROC_DIR}ratings_0_matrix.npy')\n",
    "ratings_1_matrix = np.load(f'{PREPROC_DIR}ratings_1_matrix.npy')\n",
    "print(ratings_matrix.shape, ratings_0_matrix.shape, ratings_1_matrix.shape)"
   ]
  },
  {
   "cell_type": "code",
   "execution_count": 6,
   "metadata": {},
   "outputs": [],
   "source": [
    "w1 = ratings_1_matrix.shape[0]/ratings_matrix.shape[0]\n",
    "w0 = ratings_0_matrix.shape[0]/ratings_matrix.shape[0]"
   ]
  },
  {
   "cell_type": "code",
   "execution_count": 7,
   "metadata": {},
   "outputs": [
    {
     "data": {
      "text/plain": [
       "(0.9048297578725387, 0.09517024212746124)"
      ]
     },
     "execution_count": 7,
     "metadata": {},
     "output_type": "execute_result"
    }
   ],
   "source": [
    "w0, w1"
   ]
  },
  {
   "cell_type": "code",
   "execution_count": 8,
   "metadata": {},
   "outputs": [
    {
     "data": {
      "text/plain": [
       "(5.253743069502244, 0.5525901371497928)"
      ]
     },
     "execution_count": 8,
     "metadata": {},
     "output_type": "execute_result"
    }
   ],
   "source": [
    "w1 = 67780168/2/6450655\n",
    "w0 = 67780168/2/(67780168-6450655)\n",
    "w1, w0"
   ]
  },
  {
   "cell_type": "code",
   "execution_count": 9,
   "metadata": {},
   "outputs": [
    {
     "data": {
      "text/plain": [
       "0.10518027429958558"
      ]
     },
     "execution_count": 9,
     "metadata": {},
     "output_type": "execute_result"
    }
   ],
   "source": [
    "w0/w1"
   ]
  },
  {
   "cell_type": "code",
   "execution_count": 28,
   "metadata": {},
   "outputs": [],
   "source": [
    "w0, w1 = 0.75, 0.25"
   ]
  },
  {
   "cell_type": "code",
   "execution_count": 10,
   "metadata": {
    "scrolled": true
   },
   "outputs": [
    {
     "data": {
      "text/plain": [
       "(0.09517024212746124, 0.9048297578725387)"
      ]
     },
     "execution_count": 10,
     "metadata": {},
     "output_type": "execute_result"
    }
   ],
   "source": [
    "6450655/67780168, 1-6450655/67780168"
   ]
  },
  {
   "cell_type": "code",
   "execution_count": 11,
   "metadata": {},
   "outputs": [
    {
     "data": {
      "text/plain": [
       "(328050, 192)"
      ]
     },
     "execution_count": 11,
     "metadata": {},
     "output_type": "execute_result"
    }
   ],
   "source": [
    "items_matrix = np.concatenate([items_processed_text, items_processed_images], axis=1)\n",
    "items_matrix.shape"
   ]
  },
  {
   "cell_type": "code",
   "execution_count": 12,
   "metadata": {},
   "outputs": [
    {
     "data": {
      "text/plain": [
       "array([[     0, 206495,      0],\n",
       "       [     0, 279694,      0],\n",
       "       [     0,  19718,      0],\n",
       "       ...,\n",
       "       [     2,  50780,      0],\n",
       "       [     2, 192450,      0],\n",
       "       [     2,  53749,      0]])"
      ]
     },
     "execution_count": 12,
     "metadata": {},
     "output_type": "execute_result"
    }
   ],
   "source": [
    "ratings_matrix[ratings_matrix[:, 0] < 3]"
   ]
  },
  {
   "cell_type": "code",
   "execution_count": 100,
   "metadata": {},
   "outputs": [],
   "source": [
    "def ratings_batch(ratings_matrix=ratings_matrix, batch_size=64):\n",
    "    idxs = np.random.randint(0, ratings_matrix.shape[0], batch_size)\n",
    "    items = ratings_matrix[idxs]\n",
    "    return items[:, 0], items_matrix[items[:, 1]], items[:, 2]\n",
    "\n",
    "def normalized_ratings_batch(batch_size=64):\n",
    "    return tuple(map(lambda x: np.concatenate((x[0], x[1]), axis=0), zip(\n",
    "        ratings_batch(ratings_0_matrix, batch_size // 2), \n",
    "        ratings_batch(ratings_1_matrix, batch_size - batch_size // 2)\n",
    "    )))"
   ]
  },
  {
   "cell_type": "markdown",
   "metadata": {},
   "source": [
    "## Train model"
   ]
  },
  {
   "cell_type": "code",
   "execution_count": 114,
   "metadata": {},
   "outputs": [],
   "source": [
    "import tensorflow as tf\n",
    "import keras\n",
    "from keras import backend as K\n",
    "from keras.callbacks import TensorBoard"
   ]
  },
  {
   "cell_type": "code",
   "execution_count": 115,
   "metadata": {},
   "outputs": [],
   "source": [
    "# reset graph when you change architecture!\n",
    "def reset_tf_session():\n",
    "    curr_session = tf.get_default_session()\n",
    "    # close current session\n",
    "    if curr_session is not None:\n",
    "        curr_session.close()\n",
    "    # reset graph\n",
    "    K.clear_session()\n",
    "    # create new session\n",
    "    config = tf.ConfigProto()\n",
    "    config.gpu_options.allow_growth = True\n",
    "    s = tf.InteractiveSession(config=config)\n",
    "    K.set_session(s)\n",
    "    return s"
   ]
  },
  {
   "cell_type": "code",
   "execution_count": 116,
   "metadata": {
    "ExecuteTime": {
     "end_time": "2018-11-07T16:12:13.491949Z",
     "start_time": "2018-11-07T16:12:13.485091Z"
    },
    "colab": {},
    "colab_type": "code",
    "id": "m8sJ5diMN4Ze"
   },
   "outputs": [],
   "source": [
    "# import necessary building blocks\n",
    "from keras.models import Model\n",
    "from keras.layers import Dense, Input, Embedding, concatenate, Reshape, Dropout"
   ]
  },
  {
   "cell_type": "code",
   "execution_count": 117,
   "metadata": {},
   "outputs": [],
   "source": [
    "N_USERS = 42977\n",
    "USER_EMBEDDING_SIZE = 96\n",
    "ITEM_EMBEDDING_SIZE = 192"
   ]
  },
  {
   "cell_type": "code",
   "execution_count": 118,
   "metadata": {
    "ExecuteTime": {
     "end_time": "2018-11-07T16:15:15.162847Z",
     "start_time": "2018-11-07T16:15:15.148961Z"
    },
    "colab": {},
    "colab_type": "code",
    "id": "qB6fLEF8N4Zg"
   },
   "outputs": [],
   "source": [
    "def make_model():\n",
    "    user_id = Input(dtype='int32', shape=(1,), name='user_id')\n",
    "    item_embedding = Input(dtype='float32', shape=(ITEM_EMBEDDING_SIZE,), name='item')    \n",
    "#     y = tf.placeholder(dtype=tf.float32, shape=[None], name='y')\n",
    "    \n",
    "    user_embedding = Reshape((USER_EMBEDDING_SIZE,))(Embedding(N_USERS, USER_EMBEDDING_SIZE, input_length=1)(user_id))\n",
    "    \n",
    "    layer = concatenate([user_embedding, item_embedding])\n",
    "    layer = Dense(512, activation=\"elu\", input_shape=(288,))(layer)\n",
    "#     layer = Dense(512, activation=\"elu\", input_shape=(512,))(layer)\n",
    "    layer = Dense(512, activation=\"elu\", input_shape=(512,))(layer)\n",
    "    layer = Dropout(0.5)(layer)\n",
    "    layer = Dense(128, activation=\"elu\", input_shape=(512,))(layer)\n",
    "    pred_y = Dense(1, activation=\"sigmoid\", input_shape=(64,))(layer)\n",
    "    \n",
    "    model = Model(inputs=[user_id, item_embedding], outputs=pred_y)\n",
    "    \n",
    "    return model"
   ]
  },
  {
   "cell_type": "code",
   "execution_count": 119,
   "metadata": {
    "ExecuteTime": {
     "end_time": "2018-11-07T16:15:16.796282Z",
     "start_time": "2018-11-07T16:15:16.726472Z"
    },
    "colab": {
     "base_uri": "https://localhost:8080/",
     "height": 755
    },
    "colab_type": "code",
    "id": "nbXZEqU8N4Zj",
    "outputId": "d36d47f0-e91f-4478-8a68-f29cfb42a7c2",
    "scrolled": false
   },
   "outputs": [
    {
     "name": "stdout",
     "output_type": "stream",
     "text": [
      "__________________________________________________________________________________________________\n",
      "Layer (type)                    Output Shape         Param #     Connected to                     \n",
      "==================================================================================================\n",
      "user_id (InputLayer)            (None, 1)            0                                            \n",
      "__________________________________________________________________________________________________\n",
      "embedding_1 (Embedding)         (None, 1, 96)        4125792     user_id[0][0]                    \n",
      "__________________________________________________________________________________________________\n",
      "reshape_1 (Reshape)             (None, 96)           0           embedding_1[0][0]                \n",
      "__________________________________________________________________________________________________\n",
      "item (InputLayer)               (None, 192)          0                                            \n",
      "__________________________________________________________________________________________________\n",
      "concatenate_1 (Concatenate)     (None, 288)          0           reshape_1[0][0]                  \n",
      "                                                                 item[0][0]                       \n",
      "__________________________________________________________________________________________________\n",
      "dense_1 (Dense)                 (None, 512)          147968      concatenate_1[0][0]              \n",
      "__________________________________________________________________________________________________\n",
      "dense_2 (Dense)                 (None, 512)          262656      dense_1[0][0]                    \n",
      "__________________________________________________________________________________________________\n",
      "dropout_1 (Dropout)             (None, 512)          0           dense_2[0][0]                    \n",
      "__________________________________________________________________________________________________\n",
      "dense_3 (Dense)                 (None, 128)          65664       dropout_1[0][0]                  \n",
      "__________________________________________________________________________________________________\n",
      "dense_4 (Dense)                 (None, 1)            129         dense_3[0][0]                    \n",
      "==================================================================================================\n",
      "Total params: 4,602,209\n",
      "Trainable params: 4,602,209\n",
      "Non-trainable params: 0\n",
      "__________________________________________________________________________________________________\n"
     ]
    }
   ],
   "source": [
    "# describe model\n",
    "s = reset_tf_session()  # clear default graph\n",
    "model = make_model()\n",
    "model.summary()"
   ]
  },
  {
   "cell_type": "code",
   "execution_count": 136,
   "metadata": {
    "ExecuteTime": {
     "end_time": "2018-11-07T16:16:27.284265Z",
     "start_time": "2018-11-07T16:16:27.184294Z"
    },
    "colab": {},
    "colab_type": "code",
    "id": "pS5TKAcxN4Zo"
   },
   "outputs": [],
   "source": [
    "BATCH_SIZE = 512\n",
    "STEPS_PER_EPOCH = 40_000\n",
    "EPOCHS = 50\n",
    "\n",
    "s = reset_tf_session()  # clear default graph\n",
    "model = make_model()  # define our model\n",
    "\n",
    "# prepare model for fitting (loss, optimizer, etc)\n",
    "model.compile(\n",
    "    loss='binary_crossentropy',\n",
    "    optimizer=keras.optimizers.adam(lr=0.001),  # gradient clipping just in case\n",
    ")"
   ]
  },
  {
   "cell_type": "code",
   "execution_count": 137,
   "metadata": {
    "ExecuteTime": {
     "end_time": "2018-11-07T16:20:03.725667Z",
     "start_time": "2018-11-07T16:20:03.715510Z"
    },
    "colab": {},
    "colab_type": "code",
    "id": "yYeewJvKN4Zq"
   },
   "outputs": [],
   "source": [
    "# for saving the model after every epoch\n",
    "from keras.models import save_model\n",
    "\n",
    "class ModelSaveCallback(keras.callbacks.Callback):\n",
    "    def __init__(self, file_name, period):\n",
    "        super(ModelSaveCallback, self).__init__()\n",
    "        self.file_name = file_name\n",
    "        self.period = period\n",
    "\n",
    "    def on_epoch_end(self, epoch, logs):\n",
    "        model_filename = self.file_name.format(epoch)\n",
    "        if (epoch + 1) % self.period == 0:\n",
    "            save_model(self.model, model_filename)\n",
    "            print(f\"Model saved in {model_filename}\")"
   ]
  },
  {
   "cell_type": "code",
   "execution_count": 138,
   "metadata": {},
   "outputs": [],
   "source": [
    "def mlp_predict(user_id, items):\n",
    "    return model.predict([np.full(len(items), user_id),  items_matrix[items]])[:, 0]\n",
    "\n",
    "def prediction_hist(p, bins=5):\n",
    "    hist = []\n",
    "    for th in np.linspace(0, 1-1/bins, bins):\n",
    "        hist.append(np.logical_and(th <= p, p <= (th+1/bins)).sum())\n",
    "    return hist\n",
    "\n",
    "def mlp_get_prediction_hist(bins=5):\n",
    "    user_id, item_embeddings, ratings = normalized_ratings_batch(batch_size=BATCH_SIZE)\n",
    "    return prediction_hist(model.predict([user_id, item_embeddings])[:, 0], bins)"
   ]
  },
  {
   "cell_type": "code",
   "execution_count": 139,
   "metadata": {},
   "outputs": [],
   "source": [
    "# for saving the model after every epoch\n",
    "from keras.models import save_model\n",
    "\n",
    "class ModelLogFileCallback(keras.callbacks.Callback):\n",
    "    def __init__(self, file_name):\n",
    "        super(ModelLogFileCallback, self).__init__()\n",
    "        self.file_name = file_name\n",
    "        \n",
    "    def on_train_begin(self, logs):\n",
    "        self.file = open(self.file_name, 'a+')\n",
    "        self.epoch_time = time.time()\n",
    " \n",
    "    def on_train_end(self, logs):\n",
    "        self.file.close()\n",
    "\n",
    "    def on_epoch_end(self, epoch, logs):\n",
    "        ndcg = test.ndcg(mlp_predict)\n",
    "        p_hist = mlp_get_prediction_hist()\n",
    "        cur_time = time.time()\n",
    "        logs['ndcg'] = ndcg\n",
    "        msg = \"Epoch {},   loss: {:.4f},   val ndcg: {:.4f},   p_hist: [{}],   time: {:.4f}\".format(\n",
    "            epoch,\n",
    "            logs.get('loss'),\n",
    "            ndcg,\n",
    "            ', '.join(list(map(str, p_hist))),\n",
    "            cur_time - self.epoch_time,\n",
    "        )\n",
    "        print(msg)\n",
    "        print(msg, file=self.file, flush=True)\n",
    "        self.epoch_time = cur_time"
   ]
  },
  {
   "cell_type": "code",
   "execution_count": 140,
   "metadata": {
    "ExecuteTime": {
     "end_time": "2018-11-07T16:22:04.352396Z",
     "start_time": "2018-11-07T16:22:03.726954Z"
    },
    "colab": {},
    "colab_type": "code",
    "id": "sh2rYSX8N4Zs"
   },
   "outputs": [],
   "source": [
    "last_finished_epoch = 0\n",
    "\n",
    "# you can continue from snapshot!!!\n",
    "# from keras.models import load_model\n",
    "# s = reset_tf_session()\n",
    "# last_finished_epoch = 4\n",
    "# model = load_model(\"/data/home/Xetd71/MLP/model_{}\".format(last_finished_epoch))"
   ]
  },
  {
   "cell_type": "code",
   "execution_count": 141,
   "metadata": {},
   "outputs": [],
   "source": [
    "def train_iterator(batch_size):\n",
    "    while True:\n",
    "        user_id, item_embeddings, ratings = normalized_ratings_batch(batch_size=batch_size)\n",
    "#         user_id, item_embeddings, ratings = ratings_batch(batch_size=batch_size, ratings_matrix=ratings_matrix)\n",
    "        yield [user_id, item_embeddings], ratings "
   ]
  },
  {
   "cell_type": "code",
   "execution_count": 142,
   "metadata": {},
   "outputs": [],
   "source": [
    "import time\n",
    "tensorboard = TensorBoard(log_dir=f\"/data/home/Xetd71/MLP/logs/{time.time()}\")"
   ]
  },
  {
   "cell_type": "code",
   "execution_count": 143,
   "metadata": {
    "ExecuteTime": {
     "end_time": "2018-11-07T16:22:12.823711Z",
     "start_time": "2018-11-07T16:22:08.154274Z"
    },
    "colab": {
     "base_uri": "https://localhost:8080/",
     "height": 1164
    },
    "colab_type": "code",
    "id": "FB-E1UrXN4Zv",
    "outputId": "5b3ad4bd-6fe3-48d7-c78b-66cc7f675887",
    "scrolled": true
   },
   "outputs": [
    {
     "name": "stdout",
     "output_type": "stream",
     "text": [
      "Epoch 1/50\n",
      "40000/40000 [==============================] - 377s 9ms/step - loss: 0.6192\n",
      "Model saved in /data/home/Xetd71/MLP/model_0\n",
      "Epoch 0,   loss: 0.6192,   val ndcg: 0.2119,   p_hist: [72, 125, 160, 125, 30],   time: 477.3278\n",
      "Epoch 2/50\n",
      "40000/40000 [==============================] - 378s 9ms/step - loss: 0.6023\n",
      "Model saved in /data/home/Xetd71/MLP/model_1\n",
      "Epoch 1,   loss: 0.6023,   val ndcg: 0.2259,   p_hist: [45, 123, 152, 159, 33],   time: 478.8193\n",
      "Epoch 3/50\n",
      "40000/40000 [==============================] - 378s 9ms/step - loss: 0.5896\n",
      "Model saved in /data/home/Xetd71/MLP/model_2\n",
      "Epoch 2,   loss: 0.5896,   val ndcg: 0.2329,   p_hist: [65, 115, 119, 167, 46],   time: 478.7584\n",
      "Epoch 4/50\n",
      "40000/40000 [==============================] - 379s 9ms/step - loss: 0.5782\n",
      "Model saved in /data/home/Xetd71/MLP/model_3\n",
      "Epoch 3,   loss: 0.5782,   val ndcg: 0.2373,   p_hist: [68, 127, 138, 125, 54],   time: 478.9073\n",
      "Epoch 5/50\n",
      "40000/40000 [==============================] - 378s 9ms/step - loss: 0.5682\n",
      "Model saved in /data/home/Xetd71/MLP/model_4\n",
      "Epoch 4,   loss: 0.5682,   val ndcg: 0.2388,   p_hist: [64, 113, 129, 156, 50],   time: 478.8485\n",
      "Epoch 6/50\n",
      "40000/40000 [==============================] - 378s 9ms/step - loss: 0.5591\n",
      "Model saved in /data/home/Xetd71/MLP/model_5\n",
      "Epoch 5,   loss: 0.5591,   val ndcg: 0.2412,   p_hist: [88, 99, 115, 144, 66],   time: 478.8753\n",
      "Epoch 7/50\n",
      "40000/40000 [==============================] - 379s 9ms/step - loss: 0.5510\n",
      "Model saved in /data/home/Xetd71/MLP/model_6\n",
      "Epoch 6,   loss: 0.5510,   val ndcg: 0.2389,   p_hist: [89, 123, 121, 123, 56],   time: 479.0830\n",
      "Epoch 8/50\n",
      "40000/40000 [==============================] - 378s 9ms/step - loss: 0.5440\n",
      "Model saved in /data/home/Xetd71/MLP/model_7\n",
      "Epoch 7,   loss: 0.5440,   val ndcg: 0.2377,   p_hist: [84, 91, 115, 174, 48],   time: 478.1101\n",
      "Epoch 9/50\n",
      "40000/40000 [==============================] - 378s 9ms/step - loss: 0.5382\n",
      "Model saved in /data/home/Xetd71/MLP/model_8\n",
      "Epoch 8,   loss: 0.5382,   val ndcg: 0.2355,   p_hist: [85, 90, 106, 186, 45],   time: 478.5469\n",
      "Epoch 10/50\n",
      "40000/40000 [==============================] - 378s 9ms/step - loss: 0.5332\n",
      "Model saved in /data/home/Xetd71/MLP/model_9\n",
      "Epoch 9,   loss: 0.5332,   val ndcg: 0.2343,   p_hist: [99, 91, 108, 166, 48],   time: 478.6586\n",
      "Epoch 11/50\n",
      "40000/40000 [==============================] - 378s 9ms/step - loss: 0.5291\n",
      "Model saved in /data/home/Xetd71/MLP/model_10\n",
      "Epoch 10,   loss: 0.5291,   val ndcg: 0.2338,   p_hist: [101, 85, 83, 158, 85],   time: 478.3609\n",
      "Epoch 12/50\n",
      "40000/40000 [==============================] - 379s 9ms/step - loss: 0.5252\n",
      "Model saved in /data/home/Xetd71/MLP/model_11\n",
      "Epoch 11,   loss: 0.5252,   val ndcg: 0.2323,   p_hist: [95, 106, 96, 135, 80],   time: 478.6205\n",
      "Epoch 13/50\n",
      "40000/40000 [==============================] - 378s 9ms/step - loss: 0.5217\n",
      "Model saved in /data/home/Xetd71/MLP/model_12\n",
      "Epoch 12,   loss: 0.5217,   val ndcg: 0.2317,   p_hist: [99, 82, 102, 137, 92],   time: 478.8191\n",
      "Epoch 14/50\n",
      "40000/40000 [==============================] - 378s 9ms/step - loss: 0.5187\n",
      "Model saved in /data/home/Xetd71/MLP/model_13\n",
      "Epoch 13,   loss: 0.5187,   val ndcg: 0.2319,   p_hist: [82, 82, 94, 157, 97],   time: 479.0037\n",
      "Epoch 15/50\n",
      "40000/40000 [==============================] - 378s 9ms/step - loss: 0.5157\n",
      "Model saved in /data/home/Xetd71/MLP/model_14\n",
      "Epoch 14,   loss: 0.5157,   val ndcg: 0.2320,   p_hist: [106, 80, 89, 180, 57],   time: 478.7780\n",
      "Epoch 16/50\n",
      "40000/40000 [==============================] - 379s 9ms/step - loss: 0.5134\n",
      "Model saved in /data/home/Xetd71/MLP/model_15\n",
      "Epoch 15,   loss: 0.5134,   val ndcg: 0.2304,   p_hist: [105, 107, 87, 127, 86],   time: 479.1325\n",
      "Epoch 17/50\n",
      "40000/40000 [==============================] - 379s 9ms/step - loss: 0.5112\n",
      "Model saved in /data/home/Xetd71/MLP/model_16\n",
      "Epoch 16,   loss: 0.5112,   val ndcg: 0.2301,   p_hist: [102, 83, 99, 181, 47],   time: 479.7442\n",
      "Epoch 18/50\n",
      "40000/40000 [==============================] - 381s 10ms/step - loss: 0.5094\n",
      "Model saved in /data/home/Xetd71/MLP/model_17\n",
      "Epoch 17,   loss: 0.5094,   val ndcg: 0.2298,   p_hist: [87, 90, 89, 162, 84],   time: 481.7635\n",
      "Epoch 19/50\n",
      "40000/40000 [==============================] - 379s 9ms/step - loss: 0.5108\n",
      "Model saved in /data/home/Xetd71/MLP/model_18\n",
      "Epoch 18,   loss: 0.5108,   val ndcg: 0.2201,   p_hist: [114, 68, 110, 129, 91],   time: 480.3140\n",
      "Epoch 20/50\n",
      "40000/40000 [==============================] - 380s 9ms/step - loss: 0.5093\n",
      "Model saved in /data/home/Xetd71/MLP/model_19\n",
      "Epoch 19,   loss: 0.5093,   val ndcg: 0.2218,   p_hist: [105, 71, 109, 142, 85],   time: 480.7813\n",
      "Epoch 21/50\n",
      "40000/40000 [==============================] - 380s 10ms/step - loss: 0.5073\n",
      "Model saved in /data/home/Xetd71/MLP/model_20\n",
      "Epoch 20,   loss: 0.5073,   val ndcg: 0.2192,   p_hist: [100, 65, 101, 146, 100],   time: 480.8942\n",
      "Epoch 22/50\n",
      "40000/40000 [==============================] - 380s 10ms/step - loss: 0.5062\n",
      "Model saved in /data/home/Xetd71/MLP/model_21\n",
      "Epoch 21,   loss: 0.5062,   val ndcg: 0.2181,   p_hist: [81, 69, 91, 154, 117],   time: 481.5595\n",
      "Epoch 23/50\n",
      "40000/40000 [==============================] - 380s 10ms/step - loss: 0.5042\n",
      "Model saved in /data/home/Xetd71/MLP/model_22\n",
      "Epoch 22,   loss: 0.5042,   val ndcg: 0.2230,   p_hist: [120, 73, 109, 129, 81],   time: 481.5823\n",
      "Epoch 24/50\n",
      "40000/40000 [==============================] - 380s 9ms/step - loss: 0.5036\n",
      "Model saved in /data/home/Xetd71/MLP/model_23\n",
      "Epoch 23,   loss: 0.5036,   val ndcg: 0.2192,   p_hist: [106, 68, 107, 130, 101],   time: 480.0945\n",
      "Epoch 25/50\n",
      "31541/40000 [======================>.......] - ETA: 1:20 - loss: 0.5022"
     ]
    },
    {
     "ename": "KeyboardInterrupt",
     "evalue": "",
     "output_type": "error",
     "traceback": [
      "\u001b[0;31m---------------------------------------------------------------------------\u001b[0m",
      "\u001b[0;31mKeyboardInterrupt\u001b[0m                         Traceback (most recent call last)",
      "\u001b[0;32m<ipython-input-143-f475029c1381>\u001b[0m in \u001b[0;36m<module>\u001b[0;34m\u001b[0m\n\u001b[1;32m     10\u001b[0m     ],\n\u001b[1;32m     11\u001b[0m     \u001b[0mverbose\u001b[0m\u001b[0;34m=\u001b[0m\u001b[0;36m1\u001b[0m\u001b[0;34m,\u001b[0m\u001b[0;34m\u001b[0m\u001b[0;34m\u001b[0m\u001b[0m\n\u001b[0;32m---> 12\u001b[0;31m     \u001b[0minitial_epoch\u001b[0m\u001b[0;34m=\u001b[0m\u001b[0mlast_finished_epoch\u001b[0m\u001b[0;34m,\u001b[0m\u001b[0;34m\u001b[0m\u001b[0;34m\u001b[0m\u001b[0m\n\u001b[0m\u001b[1;32m     13\u001b[0m \u001b[0;31m#     class_weight={0: 1/w0/2, 1: 1/w1/2}\u001b[0m\u001b[0;34m\u001b[0m\u001b[0;34m\u001b[0m\u001b[0;34m\u001b[0m\u001b[0m\n\u001b[1;32m     14\u001b[0m )\n",
      "\u001b[0;32m/anaconda/envs/py36/lib/python3.6/site-packages/keras/legacy/interfaces.py\u001b[0m in \u001b[0;36mwrapper\u001b[0;34m(*args, **kwargs)\u001b[0m\n\u001b[1;32m     89\u001b[0m                 warnings.warn('Update your `' + object_name +\n\u001b[1;32m     90\u001b[0m                               '` call to the Keras 2 API: ' + signature, stacklevel=2)\n\u001b[0;32m---> 91\u001b[0;31m             \u001b[0;32mreturn\u001b[0m \u001b[0mfunc\u001b[0m\u001b[0;34m(\u001b[0m\u001b[0;34m*\u001b[0m\u001b[0margs\u001b[0m\u001b[0;34m,\u001b[0m \u001b[0;34m**\u001b[0m\u001b[0mkwargs\u001b[0m\u001b[0;34m)\u001b[0m\u001b[0;34m\u001b[0m\u001b[0;34m\u001b[0m\u001b[0m\n\u001b[0m\u001b[1;32m     92\u001b[0m         \u001b[0mwrapper\u001b[0m\u001b[0;34m.\u001b[0m\u001b[0m_original_function\u001b[0m \u001b[0;34m=\u001b[0m \u001b[0mfunc\u001b[0m\u001b[0;34m\u001b[0m\u001b[0;34m\u001b[0m\u001b[0m\n\u001b[1;32m     93\u001b[0m         \u001b[0;32mreturn\u001b[0m \u001b[0mwrapper\u001b[0m\u001b[0;34m\u001b[0m\u001b[0;34m\u001b[0m\u001b[0m\n",
      "\u001b[0;32m/anaconda/envs/py36/lib/python3.6/site-packages/keras/engine/training.py\u001b[0m in \u001b[0;36mfit_generator\u001b[0;34m(self, generator, steps_per_epoch, epochs, verbose, callbacks, validation_data, validation_steps, class_weight, max_queue_size, workers, use_multiprocessing, shuffle, initial_epoch)\u001b[0m\n\u001b[1;32m   2222\u001b[0m                     outs = self.train_on_batch(x, y,\n\u001b[1;32m   2223\u001b[0m                                                \u001b[0msample_weight\u001b[0m\u001b[0;34m=\u001b[0m\u001b[0msample_weight\u001b[0m\u001b[0;34m,\u001b[0m\u001b[0;34m\u001b[0m\u001b[0;34m\u001b[0m\u001b[0m\n\u001b[0;32m-> 2224\u001b[0;31m                                                class_weight=class_weight)\n\u001b[0m\u001b[1;32m   2225\u001b[0m \u001b[0;34m\u001b[0m\u001b[0m\n\u001b[1;32m   2226\u001b[0m                     \u001b[0;32mif\u001b[0m \u001b[0;32mnot\u001b[0m \u001b[0misinstance\u001b[0m\u001b[0;34m(\u001b[0m\u001b[0mouts\u001b[0m\u001b[0;34m,\u001b[0m \u001b[0mlist\u001b[0m\u001b[0;34m)\u001b[0m\u001b[0;34m:\u001b[0m\u001b[0;34m\u001b[0m\u001b[0;34m\u001b[0m\u001b[0m\n",
      "\u001b[0;32m/anaconda/envs/py36/lib/python3.6/site-packages/keras/engine/training.py\u001b[0m in \u001b[0;36mtrain_on_batch\u001b[0;34m(self, x, y, sample_weight, class_weight)\u001b[0m\n\u001b[1;32m   1881\u001b[0m             \u001b[0mins\u001b[0m \u001b[0;34m=\u001b[0m \u001b[0mx\u001b[0m \u001b[0;34m+\u001b[0m \u001b[0my\u001b[0m \u001b[0;34m+\u001b[0m \u001b[0msample_weights\u001b[0m\u001b[0;34m\u001b[0m\u001b[0;34m\u001b[0m\u001b[0m\n\u001b[1;32m   1882\u001b[0m         \u001b[0mself\u001b[0m\u001b[0;34m.\u001b[0m\u001b[0m_make_train_function\u001b[0m\u001b[0;34m(\u001b[0m\u001b[0;34m)\u001b[0m\u001b[0;34m\u001b[0m\u001b[0;34m\u001b[0m\u001b[0m\n\u001b[0;32m-> 1883\u001b[0;31m         \u001b[0moutputs\u001b[0m \u001b[0;34m=\u001b[0m \u001b[0mself\u001b[0m\u001b[0;34m.\u001b[0m\u001b[0mtrain_function\u001b[0m\u001b[0;34m(\u001b[0m\u001b[0mins\u001b[0m\u001b[0;34m)\u001b[0m\u001b[0;34m\u001b[0m\u001b[0;34m\u001b[0m\u001b[0m\n\u001b[0m\u001b[1;32m   1884\u001b[0m         \u001b[0;32mif\u001b[0m \u001b[0mlen\u001b[0m\u001b[0;34m(\u001b[0m\u001b[0moutputs\u001b[0m\u001b[0;34m)\u001b[0m \u001b[0;34m==\u001b[0m \u001b[0;36m1\u001b[0m\u001b[0;34m:\u001b[0m\u001b[0;34m\u001b[0m\u001b[0;34m\u001b[0m\u001b[0m\n\u001b[1;32m   1885\u001b[0m             \u001b[0;32mreturn\u001b[0m \u001b[0moutputs\u001b[0m\u001b[0;34m[\u001b[0m\u001b[0;36m0\u001b[0m\u001b[0;34m]\u001b[0m\u001b[0;34m\u001b[0m\u001b[0;34m\u001b[0m\u001b[0m\n",
      "\u001b[0;32m/anaconda/envs/py36/lib/python3.6/site-packages/keras/backend/tensorflow_backend.py\u001b[0m in \u001b[0;36m__call__\u001b[0;34m(self, inputs)\u001b[0m\n\u001b[1;32m   2476\u001b[0m         \u001b[0msession\u001b[0m \u001b[0;34m=\u001b[0m \u001b[0mget_session\u001b[0m\u001b[0;34m(\u001b[0m\u001b[0;34m)\u001b[0m\u001b[0;34m\u001b[0m\u001b[0;34m\u001b[0m\u001b[0m\n\u001b[1;32m   2477\u001b[0m         updated = session.run(fetches=fetches, feed_dict=feed_dict,\n\u001b[0;32m-> 2478\u001b[0;31m                               **self.session_kwargs)\n\u001b[0m\u001b[1;32m   2479\u001b[0m         \u001b[0;32mreturn\u001b[0m \u001b[0mupdated\u001b[0m\u001b[0;34m[\u001b[0m\u001b[0;34m:\u001b[0m\u001b[0mlen\u001b[0m\u001b[0;34m(\u001b[0m\u001b[0mself\u001b[0m\u001b[0;34m.\u001b[0m\u001b[0moutputs\u001b[0m\u001b[0;34m)\u001b[0m\u001b[0;34m]\u001b[0m\u001b[0;34m\u001b[0m\u001b[0;34m\u001b[0m\u001b[0m\n\u001b[1;32m   2480\u001b[0m \u001b[0;34m\u001b[0m\u001b[0m\n",
      "\u001b[0;32m/anaconda/envs/py36/lib/python3.6/site-packages/tensorflow/python/client/session.py\u001b[0m in \u001b[0;36mrun\u001b[0;34m(self, fetches, feed_dict, options, run_metadata)\u001b[0m\n\u001b[1;32m    927\u001b[0m     \u001b[0;32mtry\u001b[0m\u001b[0;34m:\u001b[0m\u001b[0;34m\u001b[0m\u001b[0;34m\u001b[0m\u001b[0m\n\u001b[1;32m    928\u001b[0m       result = self._run(None, fetches, feed_dict, options_ptr,\n\u001b[0;32m--> 929\u001b[0;31m                          run_metadata_ptr)\n\u001b[0m\u001b[1;32m    930\u001b[0m       \u001b[0;32mif\u001b[0m \u001b[0mrun_metadata\u001b[0m\u001b[0;34m:\u001b[0m\u001b[0;34m\u001b[0m\u001b[0;34m\u001b[0m\u001b[0m\n\u001b[1;32m    931\u001b[0m         \u001b[0mproto_data\u001b[0m \u001b[0;34m=\u001b[0m \u001b[0mtf_session\u001b[0m\u001b[0;34m.\u001b[0m\u001b[0mTF_GetBuffer\u001b[0m\u001b[0;34m(\u001b[0m\u001b[0mrun_metadata_ptr\u001b[0m\u001b[0;34m)\u001b[0m\u001b[0;34m\u001b[0m\u001b[0;34m\u001b[0m\u001b[0m\n",
      "\u001b[0;32m/anaconda/envs/py36/lib/python3.6/site-packages/tensorflow/python/client/session.py\u001b[0m in \u001b[0;36m_run\u001b[0;34m(self, handle, fetches, feed_dict, options, run_metadata)\u001b[0m\n\u001b[1;32m   1150\u001b[0m     \u001b[0;32mif\u001b[0m \u001b[0mfinal_fetches\u001b[0m \u001b[0;32mor\u001b[0m \u001b[0mfinal_targets\u001b[0m \u001b[0;32mor\u001b[0m \u001b[0;34m(\u001b[0m\u001b[0mhandle\u001b[0m \u001b[0;32mand\u001b[0m \u001b[0mfeed_dict_tensor\u001b[0m\u001b[0;34m)\u001b[0m\u001b[0;34m:\u001b[0m\u001b[0;34m\u001b[0m\u001b[0;34m\u001b[0m\u001b[0m\n\u001b[1;32m   1151\u001b[0m       results = self._do_run(handle, final_targets, final_fetches,\n\u001b[0;32m-> 1152\u001b[0;31m                              feed_dict_tensor, options, run_metadata)\n\u001b[0m\u001b[1;32m   1153\u001b[0m     \u001b[0;32melse\u001b[0m\u001b[0;34m:\u001b[0m\u001b[0;34m\u001b[0m\u001b[0;34m\u001b[0m\u001b[0m\n\u001b[1;32m   1154\u001b[0m       \u001b[0mresults\u001b[0m \u001b[0;34m=\u001b[0m \u001b[0;34m[\u001b[0m\u001b[0;34m]\u001b[0m\u001b[0;34m\u001b[0m\u001b[0;34m\u001b[0m\u001b[0m\n",
      "\u001b[0;32m/anaconda/envs/py36/lib/python3.6/site-packages/tensorflow/python/client/session.py\u001b[0m in \u001b[0;36m_do_run\u001b[0;34m(self, handle, target_list, fetch_list, feed_dict, options, run_metadata)\u001b[0m\n\u001b[1;32m   1326\u001b[0m     \u001b[0;32mif\u001b[0m \u001b[0mhandle\u001b[0m \u001b[0;32mis\u001b[0m \u001b[0;32mNone\u001b[0m\u001b[0;34m:\u001b[0m\u001b[0;34m\u001b[0m\u001b[0;34m\u001b[0m\u001b[0m\n\u001b[1;32m   1327\u001b[0m       return self._do_call(_run_fn, feeds, fetches, targets, options,\n\u001b[0;32m-> 1328\u001b[0;31m                            run_metadata)\n\u001b[0m\u001b[1;32m   1329\u001b[0m     \u001b[0;32melse\u001b[0m\u001b[0;34m:\u001b[0m\u001b[0;34m\u001b[0m\u001b[0;34m\u001b[0m\u001b[0m\n\u001b[1;32m   1330\u001b[0m       \u001b[0;32mreturn\u001b[0m \u001b[0mself\u001b[0m\u001b[0;34m.\u001b[0m\u001b[0m_do_call\u001b[0m\u001b[0;34m(\u001b[0m\u001b[0m_prun_fn\u001b[0m\u001b[0;34m,\u001b[0m \u001b[0mhandle\u001b[0m\u001b[0;34m,\u001b[0m \u001b[0mfeeds\u001b[0m\u001b[0;34m,\u001b[0m \u001b[0mfetches\u001b[0m\u001b[0;34m)\u001b[0m\u001b[0;34m\u001b[0m\u001b[0;34m\u001b[0m\u001b[0m\n",
      "\u001b[0;32m/anaconda/envs/py36/lib/python3.6/site-packages/tensorflow/python/client/session.py\u001b[0m in \u001b[0;36m_do_call\u001b[0;34m(self, fn, *args)\u001b[0m\n\u001b[1;32m   1332\u001b[0m   \u001b[0;32mdef\u001b[0m \u001b[0m_do_call\u001b[0m\u001b[0;34m(\u001b[0m\u001b[0mself\u001b[0m\u001b[0;34m,\u001b[0m \u001b[0mfn\u001b[0m\u001b[0;34m,\u001b[0m \u001b[0;34m*\u001b[0m\u001b[0margs\u001b[0m\u001b[0;34m)\u001b[0m\u001b[0;34m:\u001b[0m\u001b[0;34m\u001b[0m\u001b[0;34m\u001b[0m\u001b[0m\n\u001b[1;32m   1333\u001b[0m     \u001b[0;32mtry\u001b[0m\u001b[0;34m:\u001b[0m\u001b[0;34m\u001b[0m\u001b[0;34m\u001b[0m\u001b[0m\n\u001b[0;32m-> 1334\u001b[0;31m       \u001b[0;32mreturn\u001b[0m \u001b[0mfn\u001b[0m\u001b[0;34m(\u001b[0m\u001b[0;34m*\u001b[0m\u001b[0margs\u001b[0m\u001b[0;34m)\u001b[0m\u001b[0;34m\u001b[0m\u001b[0;34m\u001b[0m\u001b[0m\n\u001b[0m\u001b[1;32m   1335\u001b[0m     \u001b[0;32mexcept\u001b[0m \u001b[0merrors\u001b[0m\u001b[0;34m.\u001b[0m\u001b[0mOpError\u001b[0m \u001b[0;32mas\u001b[0m \u001b[0me\u001b[0m\u001b[0;34m:\u001b[0m\u001b[0;34m\u001b[0m\u001b[0;34m\u001b[0m\u001b[0m\n\u001b[1;32m   1336\u001b[0m       \u001b[0mmessage\u001b[0m \u001b[0;34m=\u001b[0m \u001b[0mcompat\u001b[0m\u001b[0;34m.\u001b[0m\u001b[0mas_text\u001b[0m\u001b[0;34m(\u001b[0m\u001b[0me\u001b[0m\u001b[0;34m.\u001b[0m\u001b[0mmessage\u001b[0m\u001b[0;34m)\u001b[0m\u001b[0;34m\u001b[0m\u001b[0;34m\u001b[0m\u001b[0m\n",
      "\u001b[0;32m/anaconda/envs/py36/lib/python3.6/site-packages/tensorflow/python/client/session.py\u001b[0m in \u001b[0;36m_run_fn\u001b[0;34m(feed_dict, fetch_list, target_list, options, run_metadata)\u001b[0m\n\u001b[1;32m   1317\u001b[0m       \u001b[0mself\u001b[0m\u001b[0;34m.\u001b[0m\u001b[0m_extend_graph\u001b[0m\u001b[0;34m(\u001b[0m\u001b[0;34m)\u001b[0m\u001b[0;34m\u001b[0m\u001b[0;34m\u001b[0m\u001b[0m\n\u001b[1;32m   1318\u001b[0m       return self._call_tf_sessionrun(\n\u001b[0;32m-> 1319\u001b[0;31m           options, feed_dict, fetch_list, target_list, run_metadata)\n\u001b[0m\u001b[1;32m   1320\u001b[0m \u001b[0;34m\u001b[0m\u001b[0m\n\u001b[1;32m   1321\u001b[0m     \u001b[0;32mdef\u001b[0m \u001b[0m_prun_fn\u001b[0m\u001b[0;34m(\u001b[0m\u001b[0mhandle\u001b[0m\u001b[0;34m,\u001b[0m \u001b[0mfeed_dict\u001b[0m\u001b[0;34m,\u001b[0m \u001b[0mfetch_list\u001b[0m\u001b[0;34m)\u001b[0m\u001b[0;34m:\u001b[0m\u001b[0;34m\u001b[0m\u001b[0;34m\u001b[0m\u001b[0m\n",
      "\u001b[0;32m/anaconda/envs/py36/lib/python3.6/site-packages/tensorflow/python/client/session.py\u001b[0m in \u001b[0;36m_call_tf_sessionrun\u001b[0;34m(self, options, feed_dict, fetch_list, target_list, run_metadata)\u001b[0m\n\u001b[1;32m   1405\u001b[0m     return tf_session.TF_SessionRun_wrapper(\n\u001b[1;32m   1406\u001b[0m         \u001b[0mself\u001b[0m\u001b[0;34m.\u001b[0m\u001b[0m_session\u001b[0m\u001b[0;34m,\u001b[0m \u001b[0moptions\u001b[0m\u001b[0;34m,\u001b[0m \u001b[0mfeed_dict\u001b[0m\u001b[0;34m,\u001b[0m \u001b[0mfetch_list\u001b[0m\u001b[0;34m,\u001b[0m \u001b[0mtarget_list\u001b[0m\u001b[0;34m,\u001b[0m\u001b[0;34m\u001b[0m\u001b[0;34m\u001b[0m\u001b[0m\n\u001b[0;32m-> 1407\u001b[0;31m         run_metadata)\n\u001b[0m\u001b[1;32m   1408\u001b[0m \u001b[0;34m\u001b[0m\u001b[0m\n\u001b[1;32m   1409\u001b[0m   \u001b[0;32mdef\u001b[0m \u001b[0m_call_tf_sessionprun\u001b[0m\u001b[0;34m(\u001b[0m\u001b[0mself\u001b[0m\u001b[0;34m,\u001b[0m \u001b[0mhandle\u001b[0m\u001b[0;34m,\u001b[0m \u001b[0mfeed_dict\u001b[0m\u001b[0;34m,\u001b[0m \u001b[0mfetch_list\u001b[0m\u001b[0;34m)\u001b[0m\u001b[0;34m:\u001b[0m\u001b[0;34m\u001b[0m\u001b[0;34m\u001b[0m\u001b[0m\n",
      "\u001b[0;31mKeyboardInterrupt\u001b[0m: "
     ]
    }
   ],
   "source": [
    "# fit the model with our eternal generator!\n",
    "model.fit_generator(\n",
    "    train_iterator(BATCH_SIZE), \n",
    "    steps_per_epoch=STEPS_PER_EPOCH,\n",
    "    epochs=EPOCHS,\n",
    "    callbacks=[\n",
    "        ModelSaveCallback(\"/data/home/Xetd71/MLP/model_{}\", 1),\n",
    "        ModelLogFileCallback(\"/data/home/Xetd71/MLP/logs.txt\"),\n",
    "        tensorboard,\n",
    "    ],\n",
    "    verbose=1,\n",
    "    initial_epoch=last_finished_epoch,\n",
    "#     class_weight={0: 1/w0/2, 1: 1/w1/2}\n",
    ")"
   ]
  },
  {
   "cell_type": "code",
   "execution_count": 16,
   "metadata": {},
   "outputs": [],
   "source": [
    "N_USERS = 42977\n",
    "USER_EMBEDDING_SIZE = 96\n",
    "ITEM_EMBEDDING_SIZE = 192\n",
    "EPSILON = 1e-6\n",
    "MEAN_RATING = 0.09517\n",
    "# 0.09517\n",
    "\n",
    "LR = 0.0001\n",
    "BATCH_SIZE = 512\n",
    "EPOCHS = 100\n",
    "N_BATCHES_PER_EPOCH = 100_000"
   ]
  },
  {
   "cell_type": "code",
   "execution_count": null,
   "metadata": {},
   "outputs": [],
   "source": []
  },
  {
   "cell_type": "code",
   "execution_count": 17,
   "metadata": {},
   "outputs": [
    {
     "ename": "NameError",
     "evalue": "name 'L' is not defined",
     "output_type": "error",
     "traceback": [
      "\u001b[0;31m---------------------------------------------------------------------------\u001b[0m",
      "\u001b[0;31mNameError\u001b[0m                                 Traceback (most recent call last)",
      "\u001b[0;32m<ipython-input-17-21212b7eda58>\u001b[0m in \u001b[0;36m<module>\u001b[0;34m\u001b[0m\n\u001b[0;32m----> 1\u001b[0;31m \u001b[0;32mclass\u001b[0m \u001b[0mMLP\u001b[0m\u001b[0;34m:\u001b[0m\u001b[0;34m\u001b[0m\u001b[0;34m\u001b[0m\u001b[0m\n\u001b[0m\u001b[1;32m      2\u001b[0m     \u001b[0muser_id\u001b[0m \u001b[0;34m=\u001b[0m \u001b[0mtf\u001b[0m\u001b[0;34m.\u001b[0m\u001b[0mplaceholder\u001b[0m\u001b[0;34m(\u001b[0m\u001b[0mdtype\u001b[0m\u001b[0;34m=\u001b[0m\u001b[0mtf\u001b[0m\u001b[0;34m.\u001b[0m\u001b[0mint32\u001b[0m\u001b[0;34m,\u001b[0m \u001b[0mshape\u001b[0m\u001b[0;34m=\u001b[0m\u001b[0;34m[\u001b[0m\u001b[0;32mNone\u001b[0m\u001b[0;34m]\u001b[0m\u001b[0;34m,\u001b[0m \u001b[0mname\u001b[0m\u001b[0;34m=\u001b[0m\u001b[0;34m'user_id'\u001b[0m\u001b[0;34m)\u001b[0m\u001b[0;34m\u001b[0m\u001b[0;34m\u001b[0m\u001b[0m\n\u001b[1;32m      3\u001b[0m     \u001b[0mitem_embedding\u001b[0m \u001b[0;34m=\u001b[0m \u001b[0mtf\u001b[0m\u001b[0;34m.\u001b[0m\u001b[0mplaceholder\u001b[0m\u001b[0;34m(\u001b[0m \u001b[0mtf\u001b[0m\u001b[0;34m.\u001b[0m\u001b[0mfloat32\u001b[0m\u001b[0;34m,\u001b[0m \u001b[0mshape\u001b[0m\u001b[0;34m=\u001b[0m\u001b[0;34m[\u001b[0m\u001b[0;32mNone\u001b[0m\u001b[0;34m,\u001b[0m \u001b[0mITEM_EMBEDDING_SIZE\u001b[0m\u001b[0;34m]\u001b[0m\u001b[0;34m,\u001b[0m \u001b[0mname\u001b[0m\u001b[0;34m=\u001b[0m\u001b[0;34m'item_embedding'\u001b[0m\u001b[0;34m)\u001b[0m\u001b[0;34m\u001b[0m\u001b[0;34m\u001b[0m\u001b[0m\n\u001b[1;32m      4\u001b[0m     \u001b[0my\u001b[0m \u001b[0;34m=\u001b[0m \u001b[0mtf\u001b[0m\u001b[0;34m.\u001b[0m\u001b[0mplaceholder\u001b[0m\u001b[0;34m(\u001b[0m\u001b[0mdtype\u001b[0m\u001b[0;34m=\u001b[0m\u001b[0mtf\u001b[0m\u001b[0;34m.\u001b[0m\u001b[0mfloat32\u001b[0m\u001b[0;34m,\u001b[0m \u001b[0mshape\u001b[0m\u001b[0;34m=\u001b[0m\u001b[0;34m[\u001b[0m\u001b[0;32mNone\u001b[0m\u001b[0;34m]\u001b[0m\u001b[0;34m,\u001b[0m \u001b[0mname\u001b[0m\u001b[0;34m=\u001b[0m\u001b[0;34m'y'\u001b[0m\u001b[0;34m)\u001b[0m\u001b[0;34m\u001b[0m\u001b[0;34m\u001b[0m\u001b[0m\n\u001b[1;32m      5\u001b[0m \u001b[0;34m\u001b[0m\u001b[0m\n",
      "\u001b[0;32m<ipython-input-17-21212b7eda58>\u001b[0m in \u001b[0;36mMLP\u001b[0;34m()\u001b[0m\n\u001b[1;32m      8\u001b[0m \u001b[0;34m\u001b[0m\u001b[0m\n\u001b[1;32m      9\u001b[0m     \u001b[0mlayer\u001b[0m \u001b[0;34m=\u001b[0m \u001b[0mtf\u001b[0m\u001b[0;34m.\u001b[0m\u001b[0mconcat\u001b[0m\u001b[0;34m(\u001b[0m\u001b[0;34m[\u001b[0m\u001b[0muser_embedding\u001b[0m\u001b[0;34m,\u001b[0m \u001b[0mitem_embedding\u001b[0m\u001b[0;34m]\u001b[0m\u001b[0;34m,\u001b[0m \u001b[0maxis\u001b[0m\u001b[0;34m=\u001b[0m\u001b[0;36m1\u001b[0m\u001b[0;34m)\u001b[0m\u001b[0;34m\u001b[0m\u001b[0;34m\u001b[0m\u001b[0m\n\u001b[0;32m---> 10\u001b[0;31m     \u001b[0mlayer\u001b[0m \u001b[0;34m=\u001b[0m \u001b[0mL\u001b[0m\u001b[0;34m.\u001b[0m\u001b[0mDense\u001b[0m\u001b[0;34m(\u001b[0m\u001b[0;36m512\u001b[0m\u001b[0;34m,\u001b[0m \u001b[0;34m\"elu\"\u001b[0m\u001b[0;34m,\u001b[0m \u001b[0minput_shape\u001b[0m\u001b[0;34m=\u001b[0m\u001b[0;34m(\u001b[0m\u001b[0;32mNone\u001b[0m\u001b[0;34m,\u001b[0m \u001b[0;36m288\u001b[0m\u001b[0;34m)\u001b[0m\u001b[0;34m)\u001b[0m\u001b[0;34m(\u001b[0m\u001b[0mlayer\u001b[0m\u001b[0;34m)\u001b[0m\u001b[0;34m\u001b[0m\u001b[0;34m\u001b[0m\u001b[0m\n\u001b[0m\u001b[1;32m     11\u001b[0m     \u001b[0mlayer\u001b[0m \u001b[0;34m=\u001b[0m \u001b[0mL\u001b[0m\u001b[0;34m.\u001b[0m\u001b[0mDense\u001b[0m\u001b[0;34m(\u001b[0m\u001b[0;36m512\u001b[0m\u001b[0;34m,\u001b[0m \u001b[0;34m\"elu\"\u001b[0m\u001b[0;34m,\u001b[0m \u001b[0minput_shape\u001b[0m\u001b[0;34m=\u001b[0m\u001b[0;34m(\u001b[0m\u001b[0;32mNone\u001b[0m\u001b[0;34m,\u001b[0m \u001b[0;36m512\u001b[0m\u001b[0;34m)\u001b[0m\u001b[0;34m)\u001b[0m\u001b[0;34m(\u001b[0m\u001b[0mlayer\u001b[0m\u001b[0;34m)\u001b[0m\u001b[0;34m\u001b[0m\u001b[0;34m\u001b[0m\u001b[0m\n\u001b[1;32m     12\u001b[0m     \u001b[0mlayer\u001b[0m \u001b[0;34m=\u001b[0m \u001b[0mL\u001b[0m\u001b[0;34m.\u001b[0m\u001b[0mDense\u001b[0m\u001b[0;34m(\u001b[0m\u001b[0;36m512\u001b[0m\u001b[0;34m,\u001b[0m \u001b[0;34m\"elu\"\u001b[0m\u001b[0;34m,\u001b[0m \u001b[0minput_shape\u001b[0m\u001b[0;34m=\u001b[0m\u001b[0;34m(\u001b[0m\u001b[0;32mNone\u001b[0m\u001b[0;34m,\u001b[0m \u001b[0;36m512\u001b[0m\u001b[0;34m)\u001b[0m\u001b[0;34m)\u001b[0m\u001b[0;34m(\u001b[0m\u001b[0mlayer\u001b[0m\u001b[0;34m)\u001b[0m\u001b[0;34m\u001b[0m\u001b[0;34m\u001b[0m\u001b[0m\n",
      "\u001b[0;31mNameError\u001b[0m: name 'L' is not defined"
     ]
    }
   ],
   "source": [
    "class MLP:\n",
    "    user_id = tf.placeholder(dtype=tf.int32, shape=[None], name='user_id')\n",
    "    item_embedding = tf.placeholder( tf.float32, shape=[None, ITEM_EMBEDDING_SIZE], name='item_embedding')\n",
    "    y = tf.placeholder(dtype=tf.float32, shape=[None], name='y')\n",
    "    \n",
    "    user_embeddings = tf.Variable(tf.random_normal([N_USERS, USER_EMBEDDING_SIZE]), dtype=tf.float32)\n",
    "    user_embedding = tf.nn.embedding_lookup(user_embeddings, user_id)\n",
    "    \n",
    "    layer = tf.concat([user_embedding, item_embedding], axis=1)\n",
    "    layer = L.Dense(512, \"elu\", input_shape=(None, 288))(layer)\n",
    "    layer = L.Dense(512, \"elu\", input_shape=(None, 512))(layer)\n",
    "    layer = L.Dense(512, \"elu\", input_shape=(None, 512))(layer)\n",
    "    layer = L.Dense(128, \"elu\", input_shape=(None, 512))(layer)\n",
    "    layer = L.Dense(64, \"elu\", input_shape=(None, 128))(layer)\n",
    "    pred_y = L.Dense(1, \"sigmoid\", input_shape=(None, 64))(layer)\n",
    "    pred_y = tf.clip_by_value(pred_y, EPSILON, 1 - EPSILON)\n",
    "\n",
    "    loss = - tf.reduce_mean(y * tf.log(pred_y) *w1 + (1 - y) * tf.log(1 - pred_y) * w0)"
   ]
  },
  {
   "cell_type": "code",
   "execution_count": 18,
   "metadata": {},
   "outputs": [
    {
     "ename": "NameError",
     "evalue": "name 'MLP' is not defined",
     "output_type": "error",
     "traceback": [
      "\u001b[0;31m---------------------------------------------------------------------------\u001b[0m",
      "\u001b[0;31mNameError\u001b[0m                                 Traceback (most recent call last)",
      "\u001b[0;32m<ipython-input-18-8d5a86c37bb7>\u001b[0m in \u001b[0;36m<module>\u001b[0;34m\u001b[0m\n\u001b[1;32m      1\u001b[0m \u001b[0;31m# define optimizer operation to minimize the loss\u001b[0m\u001b[0;34m\u001b[0m\u001b[0;34m\u001b[0m\u001b[0;34m\u001b[0m\u001b[0m\n\u001b[1;32m      2\u001b[0m \u001b[0moptimizer\u001b[0m \u001b[0;34m=\u001b[0m \u001b[0mtf\u001b[0m\u001b[0;34m.\u001b[0m\u001b[0mtrain\u001b[0m\u001b[0;34m.\u001b[0m\u001b[0mAdamOptimizer\u001b[0m\u001b[0;34m(\u001b[0m\u001b[0mlearning_rate\u001b[0m\u001b[0;34m=\u001b[0m\u001b[0mLR\u001b[0m\u001b[0;34m)\u001b[0m\u001b[0;34m\u001b[0m\u001b[0;34m\u001b[0m\u001b[0m\n\u001b[0;32m----> 3\u001b[0;31m \u001b[0mtrain_step\u001b[0m \u001b[0;34m=\u001b[0m \u001b[0moptimizer\u001b[0m\u001b[0;34m.\u001b[0m\u001b[0mminimize\u001b[0m\u001b[0;34m(\u001b[0m\u001b[0mMLP\u001b[0m\u001b[0;34m.\u001b[0m\u001b[0mloss\u001b[0m\u001b[0;34m)\u001b[0m\u001b[0;34m\u001b[0m\u001b[0;34m\u001b[0m\u001b[0m\n\u001b[0m\u001b[1;32m      4\u001b[0m \u001b[0;34m\u001b[0m\u001b[0m\n\u001b[1;32m      5\u001b[0m \u001b[0;31m# will be used to save/load network weights.\u001b[0m\u001b[0;34m\u001b[0m\u001b[0;34m\u001b[0m\u001b[0;34m\u001b[0m\u001b[0m\n",
      "\u001b[0;31mNameError\u001b[0m: name 'MLP' is not defined"
     ]
    }
   ],
   "source": [
    "# define optimizer operation to minimize the loss\n",
    "optimizer = tf.train.AdamOptimizer(learning_rate=LR)\n",
    "train_step = optimizer.minimize(MLP.loss)\n",
    "\n",
    "# will be used to save/load network weights.\n",
    "# you need to reset your default graph and define it in the same way to be able to load the saved weights!\n",
    "saver = tf.train.Saver()\n",
    "\n",
    "# intialize all variables\n",
    "sess.run(tf.global_variables_initializer())"
   ]
  },
  {
   "cell_type": "code",
   "execution_count": 32,
   "metadata": {},
   "outputs": [
    {
     "name": "stdout",
     "output_type": "stream",
     "text": [
      "4873057\n"
     ]
    }
   ],
   "source": [
    "total_parameters = 0\n",
    "for variable in tf.trainable_variables():\n",
    "    shape = variable.get_shape()\n",
    "    variable_parameters = 1\n",
    "    for dim in shape:\n",
    "        variable_parameters *= dim.value\n",
    "    total_parameters += variable_parameters\n",
    "print(total_parameters)"
   ]
  },
  {
   "cell_type": "code",
   "execution_count": 33,
   "metadata": {},
   "outputs": [],
   "source": [
    "def mlp_predict(user_id, items):\n",
    "    return sess.run(\n",
    "            [MLP.pred_y],\n",
    "            feed_dict={\n",
    "                MLP.user_id: np.full(len(items), user_id),\n",
    "                MLP.item_embedding: items_matrix[items]}\n",
    "    )[0][:, 0]"
   ]
  },
  {
   "cell_type": "code",
   "execution_count": 34,
   "metadata": {},
   "outputs": [],
   "source": [
    "def prediction_hist(p, bins=5):\n",
    "    hist = []\n",
    "    for th in np.linspace(0, 1-1/bins, bins):\n",
    "        hist.append(np.logical_and(th <= p, p <= (th+1/bins)).sum())\n",
    "    return hist"
   ]
  },
  {
   "cell_type": "code",
   "execution_count": 35,
   "metadata": {},
   "outputs": [
    {
     "name": "stdout",
     "output_type": "stream",
     "text": [
      "/data/home/Xetd71/Content-based-Neural-Recommender-Systems/models/mlp\r\n"
     ]
    }
   ],
   "source": [
    "!pwd"
   ]
  },
  {
   "cell_type": "code",
   "execution_count": 36,
   "metadata": {},
   "outputs": [],
   "source": [
    "# saver = tf.train.import_meta_graph('/data/home/Xetd71/MLP/mlp45.meta')\n",
    "# saver.restore(sess,tf.train.latest_checkpoint('/data/home/Xetd71/MLP/mlp45'))\n",
    "# graph = tf.get_default_graph()\n",
    "# loss = graph.get_tensor_by_name(\"Neg:0\") #Tensor to import\n",
    "\n",
    "# optimizer = tf.train.GradientDescentOptimizer(learning_rate)\n",
    "# train_step = optimizer.minimize(loss)"
   ]
  },
  {
   "cell_type": "code",
   "execution_count": 37,
   "metadata": {},
   "outputs": [],
   "source": [
    "ratings_matrix=ratings_matrix[ratings_matrix[:, 0] < 3]"
   ]
  },
  {
   "cell_type": "code",
   "execution_count": 38,
   "metadata": {
    "scrolled": false
   },
   "outputs": [
    {
     "data": {
      "application/vnd.jupyter.widget-view+json": {
       "model_id": "958b9fbe3bef421eb92faa914dc1dbdb",
       "version_major": 2,
       "version_minor": 0
      },
      "text/plain": [
       "HBox(children=(IntProgress(value=0, max=100000), HTML(value='')))"
      ]
     },
     "metadata": {},
     "output_type": "display_data"
    },
    {
     "ename": "KeyboardInterrupt",
     "evalue": "",
     "output_type": "error",
     "traceback": [
      "\u001b[0;31m---------------------------------------------------------------------------\u001b[0m",
      "\u001b[0;31mKeyboardInterrupt\u001b[0m                         Traceback (most recent call last)",
      "\u001b[0;32m<ipython-input-38-a3a5bacec0f8>\u001b[0m in \u001b[0;36m<module>\u001b[0;34m\u001b[0m\n\u001b[1;32m     11\u001b[0m         batch_train_loss, batch_train_p, _ = sess.run(\n\u001b[1;32m     12\u001b[0m             \u001b[0;34m[\u001b[0m\u001b[0mMLP\u001b[0m\u001b[0;34m.\u001b[0m\u001b[0mloss\u001b[0m\u001b[0;34m,\u001b[0m \u001b[0mMLP\u001b[0m\u001b[0;34m.\u001b[0m\u001b[0mpred_y\u001b[0m\u001b[0;34m,\u001b[0m  \u001b[0mtrain_step\u001b[0m\u001b[0;34m]\u001b[0m\u001b[0;34m,\u001b[0m\u001b[0;34m\u001b[0m\u001b[0;34m\u001b[0m\u001b[0m\n\u001b[0;32m---> 13\u001b[0;31m             \u001b[0mfeed_dict\u001b[0m\u001b[0;34m=\u001b[0m\u001b[0;34m{\u001b[0m\u001b[0mMLP\u001b[0m\u001b[0;34m.\u001b[0m\u001b[0muser_id\u001b[0m\u001b[0;34m:\u001b[0m \u001b[0muser_ids\u001b[0m\u001b[0;34m,\u001b[0m \u001b[0mMLP\u001b[0m\u001b[0;34m.\u001b[0m\u001b[0mitem_embedding\u001b[0m\u001b[0;34m:\u001b[0m \u001b[0mitems\u001b[0m\u001b[0;34m,\u001b[0m \u001b[0mMLP\u001b[0m\u001b[0;34m.\u001b[0m\u001b[0my\u001b[0m\u001b[0;34m:\u001b[0m \u001b[0mratings\u001b[0m\u001b[0;34m}\u001b[0m\u001b[0;34m\u001b[0m\u001b[0;34m\u001b[0m\u001b[0m\n\u001b[0m\u001b[1;32m     14\u001b[0m         )\n\u001b[1;32m     15\u001b[0m         \u001b[0mtrain_loss\u001b[0m \u001b[0;34m+=\u001b[0m \u001b[0mbatch_train_loss\u001b[0m\u001b[0;34m\u001b[0m\u001b[0;34m\u001b[0m\u001b[0m\n",
      "\u001b[0;32m/anaconda/envs/py36/lib/python3.6/site-packages/tensorflow/python/client/session.py\u001b[0m in \u001b[0;36mrun\u001b[0;34m(self, fetches, feed_dict, options, run_metadata)\u001b[0m\n\u001b[1;32m    927\u001b[0m     \u001b[0;32mtry\u001b[0m\u001b[0;34m:\u001b[0m\u001b[0;34m\u001b[0m\u001b[0;34m\u001b[0m\u001b[0m\n\u001b[1;32m    928\u001b[0m       result = self._run(None, fetches, feed_dict, options_ptr,\n\u001b[0;32m--> 929\u001b[0;31m                          run_metadata_ptr)\n\u001b[0m\u001b[1;32m    930\u001b[0m       \u001b[0;32mif\u001b[0m \u001b[0mrun_metadata\u001b[0m\u001b[0;34m:\u001b[0m\u001b[0;34m\u001b[0m\u001b[0;34m\u001b[0m\u001b[0m\n\u001b[1;32m    931\u001b[0m         \u001b[0mproto_data\u001b[0m \u001b[0;34m=\u001b[0m \u001b[0mtf_session\u001b[0m\u001b[0;34m.\u001b[0m\u001b[0mTF_GetBuffer\u001b[0m\u001b[0;34m(\u001b[0m\u001b[0mrun_metadata_ptr\u001b[0m\u001b[0;34m)\u001b[0m\u001b[0;34m\u001b[0m\u001b[0;34m\u001b[0m\u001b[0m\n",
      "\u001b[0;32m/anaconda/envs/py36/lib/python3.6/site-packages/tensorflow/python/client/session.py\u001b[0m in \u001b[0;36m_run\u001b[0;34m(self, handle, fetches, feed_dict, options, run_metadata)\u001b[0m\n\u001b[1;32m   1150\u001b[0m     \u001b[0;32mif\u001b[0m \u001b[0mfinal_fetches\u001b[0m \u001b[0;32mor\u001b[0m \u001b[0mfinal_targets\u001b[0m \u001b[0;32mor\u001b[0m \u001b[0;34m(\u001b[0m\u001b[0mhandle\u001b[0m \u001b[0;32mand\u001b[0m \u001b[0mfeed_dict_tensor\u001b[0m\u001b[0;34m)\u001b[0m\u001b[0;34m:\u001b[0m\u001b[0;34m\u001b[0m\u001b[0;34m\u001b[0m\u001b[0m\n\u001b[1;32m   1151\u001b[0m       results = self._do_run(handle, final_targets, final_fetches,\n\u001b[0;32m-> 1152\u001b[0;31m                              feed_dict_tensor, options, run_metadata)\n\u001b[0m\u001b[1;32m   1153\u001b[0m     \u001b[0;32melse\u001b[0m\u001b[0;34m:\u001b[0m\u001b[0;34m\u001b[0m\u001b[0;34m\u001b[0m\u001b[0m\n\u001b[1;32m   1154\u001b[0m       \u001b[0mresults\u001b[0m \u001b[0;34m=\u001b[0m \u001b[0;34m[\u001b[0m\u001b[0;34m]\u001b[0m\u001b[0;34m\u001b[0m\u001b[0;34m\u001b[0m\u001b[0m\n",
      "\u001b[0;32m/anaconda/envs/py36/lib/python3.6/site-packages/tensorflow/python/client/session.py\u001b[0m in \u001b[0;36m_do_run\u001b[0;34m(self, handle, target_list, fetch_list, feed_dict, options, run_metadata)\u001b[0m\n\u001b[1;32m   1326\u001b[0m     \u001b[0;32mif\u001b[0m \u001b[0mhandle\u001b[0m \u001b[0;32mis\u001b[0m \u001b[0;32mNone\u001b[0m\u001b[0;34m:\u001b[0m\u001b[0;34m\u001b[0m\u001b[0;34m\u001b[0m\u001b[0m\n\u001b[1;32m   1327\u001b[0m       return self._do_call(_run_fn, feeds, fetches, targets, options,\n\u001b[0;32m-> 1328\u001b[0;31m                            run_metadata)\n\u001b[0m\u001b[1;32m   1329\u001b[0m     \u001b[0;32melse\u001b[0m\u001b[0;34m:\u001b[0m\u001b[0;34m\u001b[0m\u001b[0;34m\u001b[0m\u001b[0m\n\u001b[1;32m   1330\u001b[0m       \u001b[0;32mreturn\u001b[0m \u001b[0mself\u001b[0m\u001b[0;34m.\u001b[0m\u001b[0m_do_call\u001b[0m\u001b[0;34m(\u001b[0m\u001b[0m_prun_fn\u001b[0m\u001b[0;34m,\u001b[0m \u001b[0mhandle\u001b[0m\u001b[0;34m,\u001b[0m \u001b[0mfeeds\u001b[0m\u001b[0;34m,\u001b[0m \u001b[0mfetches\u001b[0m\u001b[0;34m)\u001b[0m\u001b[0;34m\u001b[0m\u001b[0;34m\u001b[0m\u001b[0m\n",
      "\u001b[0;32m/anaconda/envs/py36/lib/python3.6/site-packages/tensorflow/python/client/session.py\u001b[0m in \u001b[0;36m_do_call\u001b[0;34m(self, fn, *args)\u001b[0m\n\u001b[1;32m   1332\u001b[0m   \u001b[0;32mdef\u001b[0m \u001b[0m_do_call\u001b[0m\u001b[0;34m(\u001b[0m\u001b[0mself\u001b[0m\u001b[0;34m,\u001b[0m \u001b[0mfn\u001b[0m\u001b[0;34m,\u001b[0m \u001b[0;34m*\u001b[0m\u001b[0margs\u001b[0m\u001b[0;34m)\u001b[0m\u001b[0;34m:\u001b[0m\u001b[0;34m\u001b[0m\u001b[0;34m\u001b[0m\u001b[0m\n\u001b[1;32m   1333\u001b[0m     \u001b[0;32mtry\u001b[0m\u001b[0;34m:\u001b[0m\u001b[0;34m\u001b[0m\u001b[0;34m\u001b[0m\u001b[0m\n\u001b[0;32m-> 1334\u001b[0;31m       \u001b[0;32mreturn\u001b[0m \u001b[0mfn\u001b[0m\u001b[0;34m(\u001b[0m\u001b[0;34m*\u001b[0m\u001b[0margs\u001b[0m\u001b[0;34m)\u001b[0m\u001b[0;34m\u001b[0m\u001b[0;34m\u001b[0m\u001b[0m\n\u001b[0m\u001b[1;32m   1335\u001b[0m     \u001b[0;32mexcept\u001b[0m \u001b[0merrors\u001b[0m\u001b[0;34m.\u001b[0m\u001b[0mOpError\u001b[0m \u001b[0;32mas\u001b[0m \u001b[0me\u001b[0m\u001b[0;34m:\u001b[0m\u001b[0;34m\u001b[0m\u001b[0;34m\u001b[0m\u001b[0m\n\u001b[1;32m   1336\u001b[0m       \u001b[0mmessage\u001b[0m \u001b[0;34m=\u001b[0m \u001b[0mcompat\u001b[0m\u001b[0;34m.\u001b[0m\u001b[0mas_text\u001b[0m\u001b[0;34m(\u001b[0m\u001b[0me\u001b[0m\u001b[0;34m.\u001b[0m\u001b[0mmessage\u001b[0m\u001b[0;34m)\u001b[0m\u001b[0;34m\u001b[0m\u001b[0;34m\u001b[0m\u001b[0m\n",
      "\u001b[0;32m/anaconda/envs/py36/lib/python3.6/site-packages/tensorflow/python/client/session.py\u001b[0m in \u001b[0;36m_run_fn\u001b[0;34m(feed_dict, fetch_list, target_list, options, run_metadata)\u001b[0m\n\u001b[1;32m   1317\u001b[0m       \u001b[0mself\u001b[0m\u001b[0;34m.\u001b[0m\u001b[0m_extend_graph\u001b[0m\u001b[0;34m(\u001b[0m\u001b[0;34m)\u001b[0m\u001b[0;34m\u001b[0m\u001b[0;34m\u001b[0m\u001b[0m\n\u001b[1;32m   1318\u001b[0m       return self._call_tf_sessionrun(\n\u001b[0;32m-> 1319\u001b[0;31m           options, feed_dict, fetch_list, target_list, run_metadata)\n\u001b[0m\u001b[1;32m   1320\u001b[0m \u001b[0;34m\u001b[0m\u001b[0m\n\u001b[1;32m   1321\u001b[0m     \u001b[0;32mdef\u001b[0m \u001b[0m_prun_fn\u001b[0m\u001b[0;34m(\u001b[0m\u001b[0mhandle\u001b[0m\u001b[0;34m,\u001b[0m \u001b[0mfeed_dict\u001b[0m\u001b[0;34m,\u001b[0m \u001b[0mfetch_list\u001b[0m\u001b[0;34m)\u001b[0m\u001b[0;34m:\u001b[0m\u001b[0;34m\u001b[0m\u001b[0;34m\u001b[0m\u001b[0m\n",
      "\u001b[0;32m/anaconda/envs/py36/lib/python3.6/site-packages/tensorflow/python/client/session.py\u001b[0m in \u001b[0;36m_call_tf_sessionrun\u001b[0;34m(self, options, feed_dict, fetch_list, target_list, run_metadata)\u001b[0m\n\u001b[1;32m   1405\u001b[0m     return tf_session.TF_SessionRun_wrapper(\n\u001b[1;32m   1406\u001b[0m         \u001b[0mself\u001b[0m\u001b[0;34m.\u001b[0m\u001b[0m_session\u001b[0m\u001b[0;34m,\u001b[0m \u001b[0moptions\u001b[0m\u001b[0;34m,\u001b[0m \u001b[0mfeed_dict\u001b[0m\u001b[0;34m,\u001b[0m \u001b[0mfetch_list\u001b[0m\u001b[0;34m,\u001b[0m \u001b[0mtarget_list\u001b[0m\u001b[0;34m,\u001b[0m\u001b[0;34m\u001b[0m\u001b[0;34m\u001b[0m\u001b[0m\n\u001b[0;32m-> 1407\u001b[0;31m         run_metadata)\n\u001b[0m\u001b[1;32m   1408\u001b[0m \u001b[0;34m\u001b[0m\u001b[0m\n\u001b[1;32m   1409\u001b[0m   \u001b[0;32mdef\u001b[0m \u001b[0m_call_tf_sessionprun\u001b[0m\u001b[0;34m(\u001b[0m\u001b[0mself\u001b[0m\u001b[0;34m,\u001b[0m \u001b[0mhandle\u001b[0m\u001b[0;34m,\u001b[0m \u001b[0mfeed_dict\u001b[0m\u001b[0;34m,\u001b[0m \u001b[0mfetch_list\u001b[0m\u001b[0;34m)\u001b[0m\u001b[0;34m:\u001b[0m\u001b[0;34m\u001b[0m\u001b[0;34m\u001b[0m\u001b[0m\n",
      "\u001b[0;31mKeyboardInterrupt\u001b[0m: "
     ]
    }
   ],
   "source": [
    "# to make training reproducible\n",
    "np.random.seed(42)\n",
    "log_file = open('/data/home/Xetd71/MLP/logs.txt', 'a+')\n",
    "for epoch in range(EPOCHS):\n",
    "    train_loss = 0\n",
    "    p_hist = np.array([])\n",
    "    pbar = tqdm_utils.tqdm_notebook_failsafe(range(N_BATCHES_PER_EPOCH))\n",
    "    counter = 0\n",
    "    for i, _ in enumerate(pbar):\n",
    "        user_ids, items, ratings = ratings_batch(batch_size=BATCH_SIZE)\n",
    "        batch_train_loss, batch_train_p, _ = sess.run(\n",
    "            [MLP.loss, MLP.pred_y,  train_step],\n",
    "            feed_dict={MLP.user_id: user_ids, MLP.item_embedding: items, MLP.y: ratings}\n",
    "        )\n",
    "        train_loss += batch_train_loss\n",
    "        counter += 1\n",
    "        p_hist = prediction_hist(batch_train_p)\n",
    "        pbar.set_description(\"Training loss: {:.4f}; hist: [{}]\".format(train_loss / counter, ', '.join(list(map(str, p_hist)))))\n",
    "\n",
    "        \n",
    "    train_loss /= N_BATCHES_PER_EPOCH\n",
    "    epoch_msg = 'Epoch: {}, train loss: {:.4f}, val ndcg: {:.4f}'.format(epoch, train_loss, test.ndcg(mlp_predict))\n",
    "    print(epoch_msg)\n",
    "    print(epoch_msg, file=log_file, flush=True)\n",
    "    if epoch % 5 == 0:\n",
    "        saver.save(sess, f\"/data/home/Xetd71/MLP/mlp{epoch}\")\n",
    "    \n",
    "log_file.close()\n",
    "print(\"Finished!\")"
   ]
  },
  {
   "cell_type": "code",
   "execution_count": null,
   "metadata": {},
   "outputs": [],
   "source": []
  }
 ],
 "metadata": {
  "kernelspec": {
   "display_name": "Tensorflow",
   "language": "python",
   "name": "tensorflow"
  },
  "language_info": {
   "codemirror_mode": {
    "name": "ipython",
    "version": 3
   },
   "file_extension": ".py",
   "mimetype": "text/x-python",
   "name": "python",
   "nbconvert_exporter": "python",
   "pygments_lexer": "ipython3",
   "version": "3.6.8"
  },
  "toc": {
   "base_numbering": 1,
   "nav_menu": {},
   "number_sections": false,
   "sideBar": true,
   "skip_h1_title": false,
   "title_cell": "Table of Contents",
   "title_sidebar": "Contents",
   "toc_cell": false,
   "toc_position": {},
   "toc_section_display": true,
   "toc_window_display": false
  }
 },
 "nbformat": 4,
 "nbformat_minor": 2
}
