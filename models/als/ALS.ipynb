{
 "cells": [
  {
   "cell_type": "code",
   "execution_count": 1,
   "metadata": {},
   "outputs": [],
   "source": [
    "import os\n",
    "import sys\n",
    "import re\n",
    "import implicit\n",
    "import numpy as np\n",
    "import pandas as pd\n",
    "from scipy import sparse\n",
    "from tqdm import tqdm_notebook as tqdm\n",
    "\n",
    "sys.path.append(\"../..\")\n",
    "from prepare_data import get_zen_data"
   ]
  },
  {
   "cell_type": "code",
   "execution_count": 2,
   "metadata": {},
   "outputs": [],
   "source": [
    "HOME_DIR = '/mnt/E/Projects/Content-based-Neural-Recommender-Systems/'\n",
    "WORKING_DIR = f'{HOME_DIR}/models/als/'\n",
    "os.chdir(WORKING_DIR)"
   ]
  },
  {
   "cell_type": "markdown",
   "metadata": {},
   "source": [
    "# ALS"
   ]
  },
  {
   "cell_type": "markdown",
   "metadata": {},
   "source": [
    "## Load data"
   ]
  },
  {
   "cell_type": "code",
   "execution_count": null,
   "metadata": {},
   "outputs": [],
   "source": [
    "items_df, (train_df, test_df) = get_zen_data()"
   ]
  },
  {
   "cell_type": "markdown",
   "metadata": {},
   "source": [
    "## CSR-matrix"
   ]
  },
  {
   "cell_type": "code",
   "execution_count": 4,
   "metadata": {},
   "outputs": [],
   "source": [
    "user_ids = np.concatenate([[v]*v_len for v, v_len in zip(\n",
    "    train_df['userId'].values, train_df['userItems'].apply(len).values)])\n",
    "items_ids = np.concatenate(train_df['userItems'].values)\n",
    "ratings = np.concatenate(train_df['userRatings'].values)\n",
    "item_user_data = sparse.csr_matrix((ratings, (items_ids, user_ids)), dtype=np.float32)"
   ]
  },
  {
   "cell_type": "markdown",
   "metadata": {},
   "source": [
    "### Save coo-matrix"
   ]
  },
  {
   "cell_type": "code",
   "execution_count": 5,
   "metadata": {},
   "outputs": [],
   "source": [
    "# sparse.save_npz(f'{WORKING_DIR}item_user_data.npz', item_user_data)"
   ]
  },
  {
   "cell_type": "code",
   "execution_count": null,
   "metadata": {},
   "outputs": [],
   "source": [
    "# item_user_data = scipy.sparse.load_npz(f'{WORKING_DIR}item_user_data.npz')"
   ]
  },
  {
   "cell_type": "markdown",
   "metadata": {},
   "source": [
    "## Train model"
   ]
  },
  {
   "cell_type": "code",
   "execution_count": 6,
   "metadata": {},
   "outputs": [
    {
     "data": {
      "text/plain": [
       "(328050, 42977)"
      ]
     },
     "execution_count": 6,
     "metadata": {},
     "output_type": "execute_result"
    }
   ],
   "source": [
    "item_user_data.shape"
   ]
  },
  {
   "cell_type": "code",
   "execution_count": 7,
   "metadata": {
    "scrolled": true
   },
   "outputs": [
    {
     "name": "stdout",
     "output_type": "stream",
     "text": [
      "users_n: 42977\titems_n: 328049\n"
     ]
    }
   ],
   "source": [
    "users_n = train_df.shape[0]\n",
    "items_n = train_df['userItems'].apply(max).max()\n",
    "print(f'users_n: {users_n}\\titems_n: {items_n}')"
   ]
  },
  {
   "cell_type": "raw",
   "metadata": {},
   "source": [
    "model = implicit.als.AlternatingLeastSquares(\n",
    "    factors=100,\n",
    "    regularization=0.01,\n",
    "    iterations=15,\n",
    "    calculate_training_loss=True\n",
    ")\n",
    "model.fit(item_user_data)"
   ]
  },
  {
   "cell_type": "markdown",
   "metadata": {},
   "source": [
    "## Test model"
   ]
  },
  {
   "cell_type": "code",
   "execution_count": null,
   "metadata": {},
   "outputs": [],
   "source": [
    "from sklearn.metrics import log_loss"
   ]
  },
  {
   "cell_type": "raw",
   "metadata": {
    "scrolled": true
   },
   "source": [
    "loss = 0\n",
    "eps = 1e-04\n",
    "user_items_data = item_user_data.T\n",
    "for _, (idd, items, ratings) in tqdm(test_df.iterrows()):\n",
    "    predictied_ratings = model.item_factors.dot(model.user_factors[idd])[items]\n",
    "    predictied_ratings = np.clip(predictied_ratings, eps, 1 - eps)\n",
    "#     predictied_ratings = (predictied_ratings - predictied_ratings.min()) / (predictied_ratings.max() - predictied_ratings.min())\n",
    "    l = log_loss(ratings.astype(np.float64), predictied_ratings)\n",
    "#     print(idd, l)\n",
    "    loss += l\n",
    "#     print(ratings)\n",
    "#     print(predictied_ratings)\n",
    "loss /= test_df.shape[0]"
   ]
  },
  {
   "cell_type": "raw",
   "metadata": {},
   "source": [
    "loss"
   ]
  },
  {
   "cell_type": "markdown",
   "metadata": {},
   "source": [
    "## Find best params"
   ]
  },
  {
   "cell_type": "code",
   "execution_count": null,
   "metadata": {},
   "outputs": [],
   "source": [
    "def train_als(params):\n",
    "    model = implicit.als.AlternatingLeastSquares(\n",
    "        factors=100,\n",
    "        regularization=0.01,\n",
    "        iterations=15,\n",
    "        \n",
    "    )\n",
    "    model.fit(item_user_data)\n",
    "    return model\n",
    "\n",
    "\n",
    "def test_als(model, test_df, eps=1e-04):\n",
    "    loss = 0\n",
    "    for _, (idd, items, ratings) in tqdm(test_df.iterrows()):\n",
    "        predictied_ratings = model.item_factors.dot(model.user_factors[idd])[items]\n",
    "        predictied_ratings = np.clip(predictied_ratings, eps, 1 - eps)\n",
    "        loss += log_loss(ratings.astype(np.float64), predictied_ratings)\n",
    "    loss /= test_df.shape[0]\n",
    "    \n",
    "    \n",
    "calculate_training_loss = True\n",
    "iterations = 20\n",
    "with open(f'{WORKING_DIR}als_params.txt', 'a+', encoding='utf-8') as log_file:\n",
    "    for factors in [10, 40, 80, 120, 250, 500]:\n",
    "        for regularization in [0.0001, 0.001, 0.005, 0.01, 0.05, 0.1]:\n",
    "            params = {\n",
    "                'factors': factors,\n",
    "                'regularization': regularization,\n",
    "                'iterations': iterations,\n",
    "                'calculate_training_loss': calculate_training_loss,\n",
    "            }\n",
    "            model = train_als(params)\n",
    "            loss = test_als(model, test_df)\n",
    "            print(f'{params}\\tloss: {loss}', file=log_file)"
   ]
  },
  {
   "cell_type": "markdown",
   "metadata": {},
   "source": [
    "## Save model"
   ]
  },
  {
   "cell_type": "raw",
   "metadata": {},
   "source": [
    "ALS_DIR = f'{WORKING_DIR}models/als/zen/'\n",
    "if not os.path.exists(ALS_DIR):\n",
    "    os.makedirs(ALS_DIR)"
   ]
  },
  {
   "cell_type": "raw",
   "metadata": {},
   "source": [
    "np.save(f'{ALS_DIR}user_norms', model.user_norms)\n",
    "np.save(f'{ALS_DIR}user_factors', model.user_factors)\n",
    "np.save(f'{ALS_DIR}item_norms', model.item_norms)\n",
    "np.save(f'{ALS_DIR}item_factors', model.item_factors)"
   ]
  },
  {
   "cell_type": "markdown",
   "metadata": {},
   "source": [
    "## Load model"
   ]
  },
  {
   "cell_type": "raw",
   "metadata": {
    "scrolled": true
   },
   "source": [
    "model2 = implicit.recommender_base.MatrixFactorizationBase()\n",
    "model2._user_norms = np.load(f'{ALS_DIR}user_norms.npy')\n",
    "model2.user_factors = np.load(f'{ALS_DIR}user_factors.npy')\n",
    "model2._item_norms = np.load(f'{ALS_DIR}item_norms.npy')\n",
    "model2.item_factors = np.load(f'{ALS_DIR}item_factors.npy')"
   ]
  },
  {
   "cell_type": "raw",
   "metadata": {},
   "source": [
    "user_items = item_user_data.T\n",
    "recommendations = model2.recommend(0, user_items, 10)\n",
    "recommendations"
   ]
  },
  {
   "cell_type": "code",
   "execution_count": null,
   "metadata": {},
   "outputs": [],
   "source": []
  }
 ],
 "metadata": {
  "kernelspec": {
   "display_name": "Tensorflow",
   "language": "python",
   "name": "tensorflow"
  },
  "language_info": {
   "codemirror_mode": {
    "name": "ipython",
    "version": 3
   },
   "file_extension": ".py",
   "mimetype": "text/x-python",
   "name": "python",
   "nbconvert_exporter": "python",
   "pygments_lexer": "ipython3",
   "version": "3.6.8"
  },
  "toc": {
   "base_numbering": 1,
   "nav_menu": {},
   "number_sections": false,
   "sideBar": true,
   "skip_h1_title": false,
   "title_cell": "Table of Contents",
   "title_sidebar": "Contents",
   "toc_cell": false,
   "toc_position": {
    "height": "calc(100% - 180px)",
    "left": "10px",
    "top": "150px",
    "width": "384px"
   },
   "toc_section_display": true,
   "toc_window_display": true
  }
 },
 "nbformat": 4,
 "nbformat_minor": 2
}
