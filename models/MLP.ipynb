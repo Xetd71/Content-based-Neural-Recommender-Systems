{
 "cells": [
  {
   "cell_type": "code",
   "execution_count": 1,
   "metadata": {},
   "outputs": [],
   "source": [
    "import os\n",
    "import re\n",
    "import sys\n",
    "import time\n",
    "import implicit\n",
    "import numpy as np\n",
    "import tensorflow as tf\n",
    "import pandas as pd\n",
    "from scipy import sparse\n",
    "from tqdm import  tqdm"
   ]
  },
  {
   "cell_type": "code",
   "execution_count": 3,
   "metadata": {},
   "outputs": [],
   "source": [
    "IS_LOCAL = False\n",
    "HOME_DIR = '/mnt/E/Projects/Content-based-Neural-Recommender-Systems/' if IS_LOCAL else '../'\n",
    "os.environ['HOME_DIR'] = HOME_DIR\n",
    "\n",
    "sys.path.append(\"..\")\n",
    "from utils.prepare_data import get_zen_data, zen_text_iterator\n",
    "\n",
    "DATA_DIR = f'{HOME_DIR}data/zen/'\n",
    "WORKING_DIR = f'{HOME_DIR}models/'\n",
    "os.chdir(WORKING_DIR)"
   ]
  },
  {
   "cell_type": "code",
   "execution_count": 4,
   "metadata": {},
   "outputs": [
    {
     "name": "stdout",
     "output_type": "stream",
     "text": [
      "/data/home/Xetd71/Content-based-Neural-Recommender-Systems/models\r\n"
     ]
    }
   ],
   "source": [
    "!pwd"
   ]
  },
  {
   "cell_type": "markdown",
   "metadata": {},
   "source": [
    "## Load data"
   ]
  },
  {
   "cell_type": "code",
   "execution_count": 5,
   "metadata": {},
   "outputs": [],
   "source": [
    "PREPROC_DIR = f'{DATA_DIR}preproc/'"
   ]
  },
  {
   "cell_type": "code",
   "execution_count": 6,
   "metadata": {},
   "outputs": [],
   "source": [
    "users_matrix = np.load(f'{PREPROC_DIR}users_matrix.npy')\n",
    "items_matrix2 = np.load(f'{PREPROC_DIR}items_matrix2.npy')\n",
    "ratings_train_matrix = np.load(f'{PREPROC_DIR}ratings_train_matrix.npy')\n",
    "ratings_test_matrix = np.load(f'{PREPROC_DIR}ratings_test_matrix.npy')"
   ]
  },
  {
   "cell_type": "code",
   "execution_count": 7,
   "metadata": {},
   "outputs": [
    {
     "data": {
      "text/plain": [
       "((328050, 160), (54189923, 3), (13590245, 3))"
      ]
     },
     "execution_count": 7,
     "metadata": {},
     "output_type": "execute_result"
    }
   ],
   "source": [
    "# users_matrix.shape, \n",
    "items_matrix2.shape, ratings_train_matrix.shape, ratings_test_matrix.shape"
   ]
  },
  {
   "cell_type": "code",
   "execution_count": 8,
   "metadata": {},
   "outputs": [],
   "source": [
    "def get_train_data_generator(batch_size=64):\n",
    "    while True:\n",
    "        idxs = np.random.randint(0, ratings_train_matrix.shape[0], batch_size)\n",
    "        items = ratings_train_matrix[idxs]\n",
    "#         yield users_matrix[items[:, 0]], items_matrix[items[:, 1]], items[:, 2].reshape((-1,1))\n",
    "        yield items[:, 0], items_matrix2[items[:, 1]], items[:, 2].reshape((-1,1))"
   ]
  },
  {
   "cell_type": "code",
   "execution_count": 9,
   "metadata": {},
   "outputs": [],
   "source": [
    "# def get_simple_train_data_generator(batch_size=64):\n",
    "#     while True:\n",
    "#         idxs = np.random.randint(0, ratings_train_matrix.shape[0], batch_size)\n",
    "#         items = ratings_train_matrix[idxs]\n",
    "#         yield np.concatenate((users_matrix[items[:, 0]], items_matrix[items[:, 1]]), axis=1), items[:, 2].reshape((-1,1))"
   ]
  },
  {
   "cell_type": "code",
   "execution_count": 10,
   "metadata": {},
   "outputs": [],
   "source": [
    "def get_test_data_generator(batch_size=64):\n",
    "    for idx in tqdm(np.arange(0, ratings_test_matrix.shape[0], batch_size)):\n",
    "        items = ratings_test_matrix[idx:idx+batch_size]\n",
    "#         yield users_matrix[items[:, 0]], items_matrix[items[:, 1]], items[:, 2].reshape((-1,1))\n",
    "        yield items[:, 0], items_matrix2[items[:, 1]], items[:, 2].reshape((-1,1))"
   ]
  },
  {
   "cell_type": "code",
   "execution_count": 11,
   "metadata": {},
   "outputs": [],
   "source": [
    "def reset_tf_session():\n",
    "    curr_session = tf.get_default_session()\n",
    "    # close current session\n",
    "    if curr_session is not None:\n",
    "        curr_session.close()\n",
    "    # reset graph\n",
    "    tf.reset_default_graph()"
   ]
  },
  {
   "cell_type": "code",
   "execution_count": 12,
   "metadata": {},
   "outputs": [],
   "source": [
    "class MLP():\n",
    "    def __init__(self, n_users, user_embedding_size, item_embedding_size, layers, sess, batch_size, log_file, epsilon=1e-5):\n",
    "        self.n_users = n_users\n",
    "        self.user_embedding_size = user_embedding_size\n",
    "        self.item_embedding_size = item_embedding_size\n",
    "        self.layers = layers\n",
    "        self.sess = sess\n",
    "        self.batch_size = batch_size\n",
    "        self.log_file = open(log_file, 'w')\n",
    "        self.epsilon = epsilon\n",
    "\n",
    "    def define_graph(self, learning_rate):\n",
    "        self.user_id = tf.placeholder(tf.int32, shape=[None], name='user_id')\n",
    "        self.user_embeddings = tf.get_variable(\n",
    "            'user_embeddings',\n",
    "            shape=[self.n_users, self.user_embedding_size],\n",
    "            dtype=tf.float32\n",
    "        )\n",
    "        user_embedding = tf.nn.embedding_lookup(\n",
    "            self.user_embeddings, self.user_id)\n",
    "        self.item_embedding = tf.placeholder(\n",
    "            tf.float32, shape=[None, self.item_embedding_size])\n",
    "        self.y = tf.placeholder(tf.float32, name='y')\n",
    "        \n",
    "\n",
    "        layer = tf.concat([user_embedding, self.item_embedding], axis=1)\n",
    "        for layer_size in self.layers:\n",
    "            layer = tf.layers.dense(\n",
    "                layer, layer_size, tf.nn.elu, kernel_initializer=tf.random_normal_initializer)\n",
    "            layer = tf.layers.dropout(layer, 0.1)\n",
    "        self.p = tf.layers.dense(layer, 1, tf.nn.sigmoid, kernel_initializer=tf.random_normal_initializer)\n",
    "        self.p = tf.clip_by_value(self.p, self.epsilon, 1 - self.epsilon)\n",
    "        self.loss = -tf.reduce_sum(self.y * tf.log(self.p) + (1 - self.y) * tf.log(1 - self.p))\n",
    "        self.optimizer = tf.train.AdagradOptimizer(learning_rate).minimize(self.loss)\n",
    "    \n",
    "    def train(self, steps):\n",
    "        loss = []\n",
    "        start_time = time.time()\n",
    "        for it, (batch_user, batch_item, batch_rating) in enumerate(get_train_data_generator(self.batch_size)):\n",
    "            if (it + 1) % steps == 0:\n",
    "                break\n",
    "            _, l = self.sess.run((self.optimizer, self.loss),\n",
    "                                feed_dict={self.user_id: batch_user, self.item_embedding: batch_item, self.y: batch_rating})\n",
    "            loss.append(l)\n",
    "            if (it + 1) % 10_000 == 0:\n",
    "                log_info = 'Iteration: {}, loss: {:.5f}, elapsed time: {:.5f}'.format(\n",
    "                    it+1, np.mean(loss) / self.batch_size, time.time() - start_time)\n",
    "                print(log_info)\n",
    "                print(log_info, file=self.log_file, flush=True)\n",
    "                start_time = time.time()\n",
    "                \n",
    "\n",
    "    def execute(self, epochs, epoch_steps, learning_rate):\n",
    "        self.define_graph(learning_rate)\n",
    "        init = tf.global_variables_initializer()\n",
    "        self.sess.run(init)\n",
    "        \n",
    "        for epoch in np.arange(epochs)+1:\n",
    "            self.train(epoch_steps)\n",
    "            print(f\"Epoch: {epoch}\")\n",
    "            model.save(f'/data/home/Xetd71/model1/model{epoch}')\n",
    "            \n",
    "    \n",
    "    def test(self, steps=None):\n",
    "        loss = []\n",
    "        for it, (user_id, item, rating) in enumerate(get_test_data_generator(self.batch_size)):\n",
    "            if steps and (it + 1) % steps == 0:\n",
    "                break\n",
    "            p = self.predict(user_id, item)\n",
    "            loss.append(rating * np.log(p) + (1 - rating) * tf.log(1 - p))\n",
    "        return np.mean(loss)\n",
    "    \n",
    "    \n",
    "    def predict(self, user_id, item):\n",
    "        return self.sess.run([self.p], feed_dict={self.user_id: user_id, self.item_embedding: item})[0]\n",
    "    \n",
    "    def save(self, path):\n",
    "        saver = tf.train.Saver()\n",
    "        saver.save(self.sess, path)"
   ]
  },
  {
   "cell_type": "code",
   "execution_count": 13,
   "metadata": {},
   "outputs": [
    {
     "data": {
      "text/plain": [
       "42977"
      ]
     },
     "execution_count": 13,
     "metadata": {},
     "output_type": "execute_result"
    }
   ],
   "source": [
    "len(set(ratings_train_matrix[:,0]))"
   ]
  },
  {
   "cell_type": "code",
   "execution_count": 14,
   "metadata": {},
   "outputs": [
    {
     "data": {
      "text/plain": [
       "846717"
      ]
     },
     "execution_count": 14,
     "metadata": {},
     "output_type": "execute_result"
    }
   ],
   "source": [
    "ratings_train_matrix.shape[0] // 64"
   ]
  },
  {
   "cell_type": "code",
   "execution_count": 15,
   "metadata": {},
   "outputs": [
    {
     "data": {
      "text/plain": [
       "(160,)"
      ]
     },
     "execution_count": 15,
     "metadata": {},
     "output_type": "execute_result"
    }
   ],
   "source": [
    "items_matrix2[0].shape"
   ]
  },
  {
   "cell_type": "code",
   "execution_count": 16,
   "metadata": {},
   "outputs": [
    {
     "data": {
      "text/plain": [
       "256"
      ]
     },
     "execution_count": 16,
     "metadata": {},
     "output_type": "execute_result"
    }
   ],
   "source": [
    "160+96"
   ]
  },
  {
   "cell_type": "code",
   "execution_count": null,
   "metadata": {
    "scrolled": true
   },
   "outputs": [
    {
     "name": "stdout",
     "output_type": "stream",
     "text": [
      "Iteration: 10000, loss: 1.10621, elapsed time: 20.20563\n",
      "Iteration: 20000, loss: 1.10033, elapsed time: 19.85891\n",
      "Iteration: 30000, loss: 1.09843, elapsed time: 20.34593\n",
      "Iteration: 40000, loss: 1.09820, elapsed time: 20.40916\n",
      "Iteration: 50000, loss: 1.09707, elapsed time: 20.31811\n",
      "Iteration: 60000, loss: 1.09513, elapsed time: 308.38502\n",
      "Iteration: 70000, loss: 1.09552, elapsed time: 35.58398\n",
      "Iteration: 80000, loss: 1.09506, elapsed time: 35.69402\n",
      "Iteration: 90000, loss: 1.09517, elapsed time: 27.44035\n",
      "Epoch: 1\n",
      "Iteration: 10000, loss: 1.09363, elapsed time: 27.22769\n",
      "Iteration: 20000, loss: 1.09688, elapsed time: 27.12457\n",
      "Iteration: 30000, loss: 1.09644, elapsed time: 26.93956\n",
      "Iteration: 40000, loss: 1.09557, elapsed time: 26.86666\n",
      "Iteration: 50000, loss: 1.09354, elapsed time: 26.95596\n",
      "Iteration: 60000, loss: 1.09492, elapsed time: 26.96832\n"
     ]
    }
   ],
   "source": [
    "reset_tf_session()\n",
    "config = tf.ConfigProto()\n",
    "config.gpu_options.allow_growth = True\n",
    "sess = tf.Session(config=config)\n",
    "model = MLP(\n",
    "    n_users = 42977,\n",
    "    user_embedding_size=96,\n",
    "    item_embedding_size=160,\n",
    "    layers=[256, 128, 64],\n",
    "    sess=sess,\n",
    "    batch_size=64,\n",
    "    log_file='/data/home/Xetd71/model1/log.txt'\n",
    ")\n",
    "model.execute(\n",
    "    epochs=10,\n",
    "    epoch_steps=100_000,\n",
    "    learning_rate=0.01\n",
    ")"
   ]
  },
  {
   "cell_type": "code",
   "execution_count": null,
   "metadata": {},
   "outputs": [],
   "source": [
    "model.test()"
   ]
  },
  {
   "cell_type": "code",
   "execution_count": null,
   "metadata": {},
   "outputs": [],
   "source": []
  }
 ],
 "metadata": {
  "kernelspec": {
   "display_name": "Python 3.6 - AzureML",
   "language": "python",
   "name": "python3-azureml"
  },
  "language_info": {
   "codemirror_mode": {
    "name": "ipython",
    "version": 3
   },
   "file_extension": ".py",
   "mimetype": "text/x-python",
   "name": "python",
   "nbconvert_exporter": "python",
   "pygments_lexer": "ipython3",
   "version": "3.6.7"
  }
 },
 "nbformat": 4,
 "nbformat_minor": 2
}
